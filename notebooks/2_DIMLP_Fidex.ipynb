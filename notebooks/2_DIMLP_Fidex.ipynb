{
 "cells": [
  {
   "cell_type": "markdown",
   "id": "785cc0e5-c679-4b27-be0f-05f2a4c39664",
   "metadata": {},
   "source": [
    "# DIMLP Fidex"
   ]
  },
  {
   "cell_type": "code",
   "execution_count": 1,
   "id": "b4139805-2cd6-4ba3-97f5-0de3d0fbf12b",
   "metadata": {},
   "outputs": [],
   "source": [
    "import pandas as pd\n",
    "import pathlib as pl\n",
    "\n",
    "import kagglehub\n",
    "\n",
    "from sklearn.model_selection import train_test_split\n",
    "from sklearn.ensemble import RandomForestClassifier\n",
    "from sklearn.model_selection import GridSearchCV, RepeatedStratifiedKFold\n",
    "\n",
    "from dimlpfidex import fidex\n",
    "\n",
    "# We'll try with this: https://hes-xplain.github.io/documentation/dimlpfidex/training-methods/randforeststrn/#arguments-list\n",
    "\n",
    "from trainings import randForestsTrn # Part of DIMLPFIDEX"
   ]
  },
  {
   "cell_type": "code",
   "execution_count": 3,
   "id": "9ffd3657-f788-47de-bf43-a3be4b914384",
   "metadata": {},
   "outputs": [],
   "source": [
    "import pandas as pd\n",
    "import pathlib as pl\n",
    "from random import randint\n",
    "from omnixai_community.data.tabular import Tabular\n",
    "from omnixai_community.visualization.dashboard import Dashboard\n",
    "from omnixai_community.explainers.tabular.auto import TabularExplainer\n",
    "from mlxplain.explainers.tabular.specific.dimlpfidex import DimlpBTModel"
   ]
  },
  {
   "cell_type": "code",
   "execution_count": 4,
   "id": "113b9f1d-aa00-4232-a639-32455733ab7c",
   "metadata": {},
   "outputs": [
    {
     "name": "stdout",
     "output_type": "stream",
     "text": [
      "Downloading from https://www.kaggle.com/api/v1/datasets/download/sonialikhan/heart-attack-analysis-and-prediction-dataset?dataset_version_number=1...\n"
     ]
    },
    {
     "name": "stderr",
     "output_type": "stream",
     "text": [
      "100%|██████████████████████████████████████████████████████████████| 4.11k/4.11k [00:00<00:00, 6.62MB/s]"
     ]
    },
    {
     "name": "stdout",
     "output_type": "stream",
     "text": [
      "Extracting files...\n",
      "Path to dataset files: /home/twg/.cache/kagglehub/datasets/sonialikhan/heart-attack-analysis-and-prediction-dataset/versions/1\n"
     ]
    },
    {
     "name": "stderr",
     "output_type": "stream",
     "text": [
      "\n"
     ]
    }
   ],
   "source": [
    "import kagglehub\n",
    "\n",
    "# Download latest version\n",
    "path = kagglehub.dataset_download(\"sonialikhan/heart-attack-analysis-and-prediction-dataset\")\n",
    "\n",
    "print(\"Path to dataset files:\", path)"
   ]
  },
  {
   "cell_type": "code",
   "execution_count": null,
   "id": "42c30a65-e49f-4da8-9855-0b5ed88ba7fc",
   "metadata": {},
   "outputs": [],
   "source": []
  },
  {
   "cell_type": "code",
   "execution_count": null,
   "id": "e7fb07c0-3dc9-4d6d-8fd7-b13fceb6916b",
   "metadata": {},
   "outputs": [],
   "source": []
  },
  {
   "cell_type": "code",
   "execution_count": null,
   "id": "0bec098c-ffc0-4105-ba4c-a7d8fefd8143",
   "metadata": {},
   "outputs": [],
   "source": []
  },
  {
   "cell_type": "code",
   "execution_count": null,
   "id": "c0520585-3c6c-4ed0-92cd-801aceb21fb5",
   "metadata": {},
   "outputs": [],
   "source": []
  },
  {
   "cell_type": "code",
   "execution_count": null,
   "id": "76630ed8-294c-40bd-abdd-c1d4a3fcfa88",
   "metadata": {},
   "outputs": [],
   "source": []
  },
  {
   "cell_type": "code",
   "execution_count": null,
   "id": "c47ed7c0-ef1d-4531-8971-55c7fe01d167",
   "metadata": {},
   "outputs": [],
   "source": []
  },
  {
   "cell_type": "code",
   "execution_count": null,
   "id": "5d2aa025-32c6-4d46-a4ee-604bb0657ea3",
   "metadata": {},
   "outputs": [],
   "source": []
  },
  {
   "cell_type": "code",
   "execution_count": null,
   "id": "984625ef-e7d6-4415-a96c-e23647c1392b",
   "metadata": {},
   "outputs": [],
   "source": []
  },
  {
   "cell_type": "code",
   "execution_count": null,
   "id": "6eefc79b-4565-41cf-beba-ce20c6342492",
   "metadata": {},
   "outputs": [],
   "source": []
  },
  {
   "cell_type": "code",
   "execution_count": null,
   "id": "cbd002bb-b86a-42d5-89c1-fbf9b1435659",
   "metadata": {},
   "outputs": [],
   "source": []
  }
 ],
 "metadata": {
  "kernelspec": {
   "display_name": "Python 3 (ipykernel)",
   "language": "python",
   "name": "python3"
  },
  "language_info": {
   "codemirror_mode": {
    "name": "ipython",
    "version": 3
   },
   "file_extension": ".py",
   "mimetype": "text/x-python",
   "name": "python",
   "nbconvert_exporter": "python",
   "pygments_lexer": "ipython3",
   "version": "3.11.11"
  }
 },
 "nbformat": 4,
 "nbformat_minor": 5
}
