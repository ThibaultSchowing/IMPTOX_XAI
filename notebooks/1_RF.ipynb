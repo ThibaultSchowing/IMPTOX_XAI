{
  "cells": [
    {
      "cell_type": "markdown",
      "id": "6ca49ac6-9a69-4251-b68d-ca32365e60bd",
      "metadata": {
        "id": "6ca49ac6-9a69-4251-b68d-ca32365e60bd"
      },
      "source": [
        "# IMPTOX\n",
        "\n",
        "## Random Forest modelling and Rules extraction with FIDEX\n",
        "\n",
        "\n",
        "For this example, we will consider that you have a fully numerical dataset without any missing values.\n",
        "\n",
        "This means that all values :\n",
        "- TODO COMPLETE CONDITIONS\n",
        "\n",
        "\n",
        "Note: You need to be at the root of the repository\n"
      ]
    },
    {
      "cell_type": "code",
      "source": [
        "use_colab = True"
      ],
      "metadata": {
        "id": "KmVRLT_lEyIy"
      },
      "id": "KmVRLT_lEyIy",
      "execution_count": 3,
      "outputs": []
    },
    {
      "cell_type": "code",
      "source": [
        "if use_colab:\n",
        "  # Install dependencies\n",
        "  !pip install omnixai-community\n",
        "  !pip install dimlpfidex"
      ],
      "metadata": {
        "id": "R9iRWjRcE1mF",
        "outputId": "92e10c94-545c-4538-e621-1091352f10a6",
        "colab": {
          "base_uri": "https://localhost:8080/"
        }
      },
      "id": "R9iRWjRcE1mF",
      "execution_count": 4,
      "outputs": [
        {
          "output_type": "stream",
          "name": "stdout",
          "text": [
            "Requirement already satisfied: omnixai-community in /usr/local/lib/python3.11/dist-packages (1.3.2.3)\n",
            "Requirement already satisfied: numpy<1.24,>=1.17 in /usr/local/lib/python3.11/dist-packages (from omnixai-community) (1.23.5)\n",
            "Requirement already satisfied: pandas>=1.1.0 in /usr/local/lib/python3.11/dist-packages (from omnixai-community) (2.2.2)\n",
            "Requirement already satisfied: scikit-learn<1.2,>=0.24 in /usr/local/lib/python3.11/dist-packages (from omnixai-community) (1.1.3)\n",
            "Requirement already satisfied: scipy>=1.5.0 in /usr/local/lib/python3.11/dist-packages (from omnixai-community) (1.13.1)\n",
            "Requirement already satisfied: scikit-image>=0.17.2 in /usr/local/lib/python3.11/dist-packages (from omnixai-community) (0.24.0)\n",
            "Requirement already satisfied: matplotlib in /usr/local/lib/python3.11/dist-packages (from omnixai-community) (3.10.0)\n",
            "Requirement already satisfied: pillow<10.0 in /usr/local/lib/python3.11/dist-packages (from omnixai-community) (9.5.0)\n",
            "Requirement already satisfied: lime in /usr/local/lib/python3.11/dist-packages (from omnixai-community) (0.2.0.1)\n",
            "Requirement already satisfied: shap>=0.40.0 in /usr/local/lib/python3.11/dist-packages (from omnixai-community) (0.46.0)\n",
            "Requirement already satisfied: SALib in /usr/local/lib/python3.11/dist-packages (from omnixai-community) (1.5.1)\n",
            "Requirement already satisfied: hnswlib>=0.5.0 in /usr/local/lib/python3.11/dist-packages (from omnixai-community) (0.8.0)\n",
            "Requirement already satisfied: dill in /usr/local/lib/python3.11/dist-packages (from omnixai-community) (0.3.9)\n",
            "Requirement already satisfied: tqdm in /usr/local/lib/python3.11/dist-packages (from omnixai-community) (4.67.1)\n",
            "Requirement already satisfied: wheel in /usr/local/lib/python3.11/dist-packages (from omnixai-community) (0.45.1)\n",
            "Requirement already satisfied: packaging in /usr/local/lib/python3.11/dist-packages (from omnixai-community) (24.2)\n",
            "Requirement already satisfied: ipython in /usr/local/lib/python3.11/dist-packages (from omnixai-community) (7.34.0)\n",
            "Requirement already satisfied: tabulate in /usr/local/lib/python3.11/dist-packages (from omnixai-community) (0.9.0)\n",
            "Requirement already satisfied: statsmodels>=0.10.1 in /usr/local/lib/python3.11/dist-packages (from omnixai-community) (0.14.4)\n",
            "Requirement already satisfied: openai in /usr/local/lib/python3.11/dist-packages (from omnixai-community) (1.61.1)\n",
            "Requirement already satisfied: python-dateutil>=2.8.2 in /usr/local/lib/python3.11/dist-packages (from pandas>=1.1.0->omnixai-community) (2.8.2)\n",
            "Requirement already satisfied: pytz>=2020.1 in /usr/local/lib/python3.11/dist-packages (from pandas>=1.1.0->omnixai-community) (2025.1)\n",
            "Requirement already satisfied: tzdata>=2022.7 in /usr/local/lib/python3.11/dist-packages (from pandas>=1.1.0->omnixai-community) (2025.1)\n",
            "Requirement already satisfied: networkx>=2.8 in /usr/local/lib/python3.11/dist-packages (from scikit-image>=0.17.2->omnixai-community) (3.4.2)\n",
            "Requirement already satisfied: imageio>=2.33 in /usr/local/lib/python3.11/dist-packages (from scikit-image>=0.17.2->omnixai-community) (2.37.0)\n",
            "Requirement already satisfied: tifffile>=2022.8.12 in /usr/local/lib/python3.11/dist-packages (from scikit-image>=0.17.2->omnixai-community) (2025.1.10)\n",
            "Requirement already satisfied: lazy-loader>=0.4 in /usr/local/lib/python3.11/dist-packages (from scikit-image>=0.17.2->omnixai-community) (0.4)\n",
            "Requirement already satisfied: joblib>=1.0.0 in /usr/local/lib/python3.11/dist-packages (from scikit-learn<1.2,>=0.24->omnixai-community) (1.4.2)\n",
            "Requirement already satisfied: threadpoolctl>=2.0.0 in /usr/local/lib/python3.11/dist-packages (from scikit-learn<1.2,>=0.24->omnixai-community) (3.5.0)\n",
            "Requirement already satisfied: slicer==0.0.8 in /usr/local/lib/python3.11/dist-packages (from shap>=0.40.0->omnixai-community) (0.0.8)\n",
            "Requirement already satisfied: numba in /usr/local/lib/python3.11/dist-packages (from shap>=0.40.0->omnixai-community) (0.60.0)\n",
            "Requirement already satisfied: cloudpickle in /usr/local/lib/python3.11/dist-packages (from shap>=0.40.0->omnixai-community) (3.1.1)\n",
            "Requirement already satisfied: patsy>=0.5.6 in /usr/local/lib/python3.11/dist-packages (from statsmodels>=0.10.1->omnixai-community) (1.0.1)\n",
            "Requirement already satisfied: setuptools>=18.5 in /usr/local/lib/python3.11/dist-packages (from ipython->omnixai-community) (75.1.0)\n",
            "Requirement already satisfied: jedi>=0.16 in /usr/local/lib/python3.11/dist-packages (from ipython->omnixai-community) (0.19.2)\n",
            "Requirement already satisfied: decorator in /usr/local/lib/python3.11/dist-packages (from ipython->omnixai-community) (4.4.2)\n",
            "Requirement already satisfied: pickleshare in /usr/local/lib/python3.11/dist-packages (from ipython->omnixai-community) (0.7.5)\n",
            "Requirement already satisfied: traitlets>=4.2 in /usr/local/lib/python3.11/dist-packages (from ipython->omnixai-community) (5.7.1)\n",
            "Requirement already satisfied: prompt-toolkit!=3.0.0,!=3.0.1,<3.1.0,>=2.0.0 in /usr/local/lib/python3.11/dist-packages (from ipython->omnixai-community) (3.0.50)\n",
            "Requirement already satisfied: pygments in /usr/local/lib/python3.11/dist-packages (from ipython->omnixai-community) (2.18.0)\n",
            "Requirement already satisfied: backcall in /usr/local/lib/python3.11/dist-packages (from ipython->omnixai-community) (0.2.0)\n",
            "Requirement already satisfied: matplotlib-inline in /usr/local/lib/python3.11/dist-packages (from ipython->omnixai-community) (0.1.7)\n",
            "Requirement already satisfied: pexpect>4.3 in /usr/local/lib/python3.11/dist-packages (from ipython->omnixai-community) (4.9.0)\n",
            "Requirement already satisfied: contourpy>=1.0.1 in /usr/local/lib/python3.11/dist-packages (from matplotlib->omnixai-community) (1.3.1)\n",
            "Requirement already satisfied: cycler>=0.10 in /usr/local/lib/python3.11/dist-packages (from matplotlib->omnixai-community) (0.12.1)\n",
            "Requirement already satisfied: fonttools>=4.22.0 in /usr/local/lib/python3.11/dist-packages (from matplotlib->omnixai-community) (4.55.8)\n",
            "Requirement already satisfied: kiwisolver>=1.3.1 in /usr/local/lib/python3.11/dist-packages (from matplotlib->omnixai-community) (1.4.8)\n",
            "Requirement already satisfied: pyparsing>=2.3.1 in /usr/local/lib/python3.11/dist-packages (from matplotlib->omnixai-community) (3.2.1)\n",
            "Requirement already satisfied: anyio<5,>=3.5.0 in /usr/local/lib/python3.11/dist-packages (from openai->omnixai-community) (3.7.1)\n",
            "Requirement already satisfied: distro<2,>=1.7.0 in /usr/local/lib/python3.11/dist-packages (from openai->omnixai-community) (1.9.0)\n",
            "Requirement already satisfied: httpx<1,>=0.23.0 in /usr/local/lib/python3.11/dist-packages (from openai->omnixai-community) (0.28.1)\n",
            "Requirement already satisfied: jiter<1,>=0.4.0 in /usr/local/lib/python3.11/dist-packages (from openai->omnixai-community) (0.8.2)\n",
            "Requirement already satisfied: pydantic<3,>=1.9.0 in /usr/local/lib/python3.11/dist-packages (from openai->omnixai-community) (2.10.6)\n",
            "Requirement already satisfied: sniffio in /usr/local/lib/python3.11/dist-packages (from openai->omnixai-community) (1.3.1)\n",
            "Requirement already satisfied: typing-extensions<5,>=4.11 in /usr/local/lib/python3.11/dist-packages (from openai->omnixai-community) (4.12.2)\n",
            "Requirement already satisfied: multiprocess in /usr/local/lib/python3.11/dist-packages (from SALib->omnixai-community) (0.70.17)\n",
            "Requirement already satisfied: idna>=2.8 in /usr/local/lib/python3.11/dist-packages (from anyio<5,>=3.5.0->openai->omnixai-community) (3.10)\n",
            "Requirement already satisfied: certifi in /usr/local/lib/python3.11/dist-packages (from httpx<1,>=0.23.0->openai->omnixai-community) (2025.1.31)\n",
            "Requirement already satisfied: httpcore==1.* in /usr/local/lib/python3.11/dist-packages (from httpx<1,>=0.23.0->openai->omnixai-community) (1.0.7)\n",
            "Requirement already satisfied: h11<0.15,>=0.13 in /usr/local/lib/python3.11/dist-packages (from httpcore==1.*->httpx<1,>=0.23.0->openai->omnixai-community) (0.14.0)\n",
            "Requirement already satisfied: parso<0.9.0,>=0.8.4 in /usr/local/lib/python3.11/dist-packages (from jedi>=0.16->ipython->omnixai-community) (0.8.4)\n",
            "Requirement already satisfied: ptyprocess>=0.5 in /usr/local/lib/python3.11/dist-packages (from pexpect>4.3->ipython->omnixai-community) (0.7.0)\n",
            "Requirement already satisfied: wcwidth in /usr/local/lib/python3.11/dist-packages (from prompt-toolkit!=3.0.0,!=3.0.1,<3.1.0,>=2.0.0->ipython->omnixai-community) (0.2.13)\n",
            "Requirement already satisfied: annotated-types>=0.6.0 in /usr/local/lib/python3.11/dist-packages (from pydantic<3,>=1.9.0->openai->omnixai-community) (0.7.0)\n",
            "Requirement already satisfied: pydantic-core==2.27.2 in /usr/local/lib/python3.11/dist-packages (from pydantic<3,>=1.9.0->openai->omnixai-community) (2.27.2)\n",
            "Requirement already satisfied: six>=1.5 in /usr/local/lib/python3.11/dist-packages (from python-dateutil>=2.8.2->pandas>=1.1.0->omnixai-community) (1.17.0)\n",
            "Requirement already satisfied: llvmlite<0.44,>=0.43.0dev0 in /usr/local/lib/python3.11/dist-packages (from numba->shap>=0.40.0->omnixai-community) (0.43.0)\n",
            "Collecting dimlpfidex\n",
            "  Downloading dimlpfidex-1.0.1-cp311-cp311-manylinux_2_17_x86_64.manylinux2014_x86_64.whl.metadata (5.6 kB)\n",
            "Collecting pybind11>=2.12.0 (from dimlpfidex)\n",
            "  Using cached pybind11-2.13.6-py3-none-any.whl.metadata (9.5 kB)\n",
            "Collecting pybind11-global>=2.10.4 (from dimlpfidex)\n",
            "  Downloading pybind11_global-2.13.6-py3-none-any.whl.metadata (9.4 kB)\n",
            "Requirement already satisfied: numpy<2.0 in /usr/local/lib/python3.11/dist-packages (from dimlpfidex) (1.23.5)\n",
            "Requirement already satisfied: scikit-learn>=1.1.3 in /usr/local/lib/python3.11/dist-packages (from dimlpfidex) (1.1.3)\n",
            "Requirement already satisfied: keras>=3.3 in /usr/local/lib/python3.11/dist-packages (from dimlpfidex) (3.8.0)\n",
            "Requirement already satisfied: torch>=2.3 in /usr/local/lib/python3.11/dist-packages (from dimlpfidex) (2.5.1+cu124)\n",
            "Requirement already satisfied: torchvision>=0.18 in /usr/local/lib/python3.11/dist-packages (from dimlpfidex) (0.20.1+cu124)\n",
            "Requirement already satisfied: matplotlib>=3.7.4 in /usr/local/lib/python3.11/dist-packages (from dimlpfidex) (3.10.0)\n",
            "Collecting build>=1.0.3 (from dimlpfidex)\n",
            "  Downloading build-1.2.2.post1-py3-none-any.whl.metadata (6.5 kB)\n",
            "Collecting cibuildwheel>=2.19.1 (from dimlpfidex)\n",
            "  Downloading cibuildwheel-2.22.0-py3-none-any.whl.metadata (22 kB)\n",
            "Collecting breathe>=4.35.0 (from dimlpfidex)\n",
            "  Downloading breathe-4.35.0-py3-none-any.whl.metadata (1.0 kB)\n",
            "Collecting exhale>=0.3.7 (from dimlpfidex)\n",
            "  Downloading exhale-0.3.7-py3-none-any.whl.metadata (10 kB)\n",
            "Requirement already satisfied: sphinx>=7.3.7 in /usr/local/lib/python3.11/dist-packages (from dimlpfidex) (8.1.3)\n",
            "Collecting sphinx-rtd-theme>=2.0.0 (from dimlpfidex)\n",
            "  Downloading sphinx_rtd_theme-3.0.2-py2.py3-none-any.whl.metadata (4.4 kB)\n",
            "Requirement already satisfied: docutils>=0.12 in /usr/local/lib/python3.11/dist-packages (from breathe>=4.35.0->dimlpfidex) (0.21.2)\n",
            "Requirement already satisfied: packaging>=19.1 in /usr/local/lib/python3.11/dist-packages (from build>=1.0.3->dimlpfidex) (24.2)\n",
            "Collecting pyproject_hooks (from build>=1.0.3->dimlpfidex)\n",
            "  Downloading pyproject_hooks-1.2.0-py3-none-any.whl.metadata (1.3 kB)\n",
            "Collecting bashlex!=0.13 (from cibuildwheel>=2.19.1->dimlpfidex)\n",
            "  Downloading bashlex-0.18-py2.py3-none-any.whl.metadata (1.1 kB)\n",
            "Collecting bracex (from cibuildwheel>=2.19.1->dimlpfidex)\n",
            "  Downloading bracex-2.5.post1-py3-none-any.whl.metadata (3.5 kB)\n",
            "Requirement already satisfied: certifi in /usr/local/lib/python3.11/dist-packages (from cibuildwheel>=2.19.1->dimlpfidex) (2025.1.31)\n",
            "Collecting dependency-groups>=1.2 (from cibuildwheel>=2.19.1->dimlpfidex)\n",
            "  Downloading dependency_groups-1.3.0-py3-none-any.whl.metadata (2.2 kB)\n",
            "Requirement already satisfied: filelock in /usr/local/lib/python3.11/dist-packages (from cibuildwheel>=2.19.1->dimlpfidex) (3.17.0)\n",
            "Requirement already satisfied: platformdirs in /usr/local/lib/python3.11/dist-packages (from cibuildwheel>=2.19.1->dimlpfidex) (4.3.6)\n",
            "Requirement already satisfied: beautifulsoup4 in /usr/local/lib/python3.11/dist-packages (from exhale>=0.3.7->dimlpfidex) (4.13.3)\n",
            "Requirement already satisfied: lxml in /usr/local/lib/python3.11/dist-packages (from exhale>=0.3.7->dimlpfidex) (5.3.0)\n",
            "Requirement already satisfied: six in /usr/local/lib/python3.11/dist-packages (from exhale>=0.3.7->dimlpfidex) (1.17.0)\n",
            "Requirement already satisfied: absl-py in /usr/local/lib/python3.11/dist-packages (from keras>=3.3->dimlpfidex) (1.4.0)\n",
            "Requirement already satisfied: rich in /usr/local/lib/python3.11/dist-packages (from keras>=3.3->dimlpfidex) (13.9.4)\n",
            "Requirement already satisfied: namex in /usr/local/lib/python3.11/dist-packages (from keras>=3.3->dimlpfidex) (0.0.8)\n",
            "Requirement already satisfied: h5py in /usr/local/lib/python3.11/dist-packages (from keras>=3.3->dimlpfidex) (3.12.1)\n",
            "Requirement already satisfied: optree in /usr/local/lib/python3.11/dist-packages (from keras>=3.3->dimlpfidex) (0.14.0)\n",
            "Requirement already satisfied: ml-dtypes in /usr/local/lib/python3.11/dist-packages (from keras>=3.3->dimlpfidex) (0.4.1)\n",
            "Requirement already satisfied: contourpy>=1.0.1 in /usr/local/lib/python3.11/dist-packages (from matplotlib>=3.7.4->dimlpfidex) (1.3.1)\n",
            "Requirement already satisfied: cycler>=0.10 in /usr/local/lib/python3.11/dist-packages (from matplotlib>=3.7.4->dimlpfidex) (0.12.1)\n",
            "Requirement already satisfied: fonttools>=4.22.0 in /usr/local/lib/python3.11/dist-packages (from matplotlib>=3.7.4->dimlpfidex) (4.55.8)\n",
            "Requirement already satisfied: kiwisolver>=1.3.1 in /usr/local/lib/python3.11/dist-packages (from matplotlib>=3.7.4->dimlpfidex) (1.4.8)\n",
            "Requirement already satisfied: pillow>=8 in /usr/local/lib/python3.11/dist-packages (from matplotlib>=3.7.4->dimlpfidex) (9.5.0)\n",
            "Requirement already satisfied: pyparsing>=2.3.1 in /usr/local/lib/python3.11/dist-packages (from matplotlib>=3.7.4->dimlpfidex) (3.2.1)\n",
            "Requirement already satisfied: python-dateutil>=2.7 in /usr/local/lib/python3.11/dist-packages (from matplotlib>=3.7.4->dimlpfidex) (2.8.2)\n",
            "Requirement already satisfied: scipy>=1.3.2 in /usr/local/lib/python3.11/dist-packages (from scikit-learn>=1.1.3->dimlpfidex) (1.13.1)\n",
            "Requirement already satisfied: joblib>=1.0.0 in /usr/local/lib/python3.11/dist-packages (from scikit-learn>=1.1.3->dimlpfidex) (1.4.2)\n",
            "Requirement already satisfied: threadpoolctl>=2.0.0 in /usr/local/lib/python3.11/dist-packages (from scikit-learn>=1.1.3->dimlpfidex) (3.5.0)\n",
            "Requirement already satisfied: sphinxcontrib-applehelp>=1.0.7 in /usr/local/lib/python3.11/dist-packages (from sphinx>=7.3.7->dimlpfidex) (2.0.0)\n",
            "Requirement already satisfied: sphinxcontrib-devhelp>=1.0.6 in /usr/local/lib/python3.11/dist-packages (from sphinx>=7.3.7->dimlpfidex) (2.0.0)\n",
            "Requirement already satisfied: sphinxcontrib-htmlhelp>=2.0.6 in /usr/local/lib/python3.11/dist-packages (from sphinx>=7.3.7->dimlpfidex) (2.1.0)\n",
            "Requirement already satisfied: sphinxcontrib-jsmath>=1.0.1 in /usr/local/lib/python3.11/dist-packages (from sphinx>=7.3.7->dimlpfidex) (1.0.1)\n",
            "Requirement already satisfied: sphinxcontrib-qthelp>=1.0.6 in /usr/local/lib/python3.11/dist-packages (from sphinx>=7.3.7->dimlpfidex) (2.0.0)\n",
            "Requirement already satisfied: sphinxcontrib-serializinghtml>=1.1.9 in /usr/local/lib/python3.11/dist-packages (from sphinx>=7.3.7->dimlpfidex) (2.0.0)\n",
            "Requirement already satisfied: Jinja2>=3.1 in /usr/local/lib/python3.11/dist-packages (from sphinx>=7.3.7->dimlpfidex) (3.1.5)\n",
            "Requirement already satisfied: Pygments>=2.17 in /usr/local/lib/python3.11/dist-packages (from sphinx>=7.3.7->dimlpfidex) (2.18.0)\n",
            "Requirement already satisfied: snowballstemmer>=2.2 in /usr/local/lib/python3.11/dist-packages (from sphinx>=7.3.7->dimlpfidex) (2.2.0)\n",
            "Requirement already satisfied: babel>=2.13 in /usr/local/lib/python3.11/dist-packages (from sphinx>=7.3.7->dimlpfidex) (2.17.0)\n",
            "Requirement already satisfied: alabaster>=0.7.14 in /usr/local/lib/python3.11/dist-packages (from sphinx>=7.3.7->dimlpfidex) (1.0.0)\n",
            "Requirement already satisfied: imagesize>=1.3 in /usr/local/lib/python3.11/dist-packages (from sphinx>=7.3.7->dimlpfidex) (1.4.1)\n",
            "Requirement already satisfied: requests>=2.30.0 in /usr/local/lib/python3.11/dist-packages (from sphinx>=7.3.7->dimlpfidex) (2.32.3)\n",
            "Collecting sphinxcontrib-jquery<5,>=4 (from sphinx-rtd-theme>=2.0.0->dimlpfidex)\n",
            "  Downloading sphinxcontrib_jquery-4.1-py2.py3-none-any.whl.metadata (2.6 kB)\n",
            "Requirement already satisfied: typing-extensions>=4.8.0 in /usr/local/lib/python3.11/dist-packages (from torch>=2.3->dimlpfidex) (4.12.2)\n",
            "Requirement already satisfied: networkx in /usr/local/lib/python3.11/dist-packages (from torch>=2.3->dimlpfidex) (3.4.2)\n",
            "Requirement already satisfied: fsspec in /usr/local/lib/python3.11/dist-packages (from torch>=2.3->dimlpfidex) (2024.10.0)\n",
            "Collecting nvidia-cuda-nvrtc-cu12==12.4.127 (from torch>=2.3->dimlpfidex)\n",
            "  Downloading nvidia_cuda_nvrtc_cu12-12.4.127-py3-none-manylinux2014_x86_64.whl.metadata (1.5 kB)\n",
            "Collecting nvidia-cuda-runtime-cu12==12.4.127 (from torch>=2.3->dimlpfidex)\n",
            "  Downloading nvidia_cuda_runtime_cu12-12.4.127-py3-none-manylinux2014_x86_64.whl.metadata (1.5 kB)\n",
            "Collecting nvidia-cuda-cupti-cu12==12.4.127 (from torch>=2.3->dimlpfidex)\n",
            "  Downloading nvidia_cuda_cupti_cu12-12.4.127-py3-none-manylinux2014_x86_64.whl.metadata (1.6 kB)\n",
            "Collecting nvidia-cudnn-cu12==9.1.0.70 (from torch>=2.3->dimlpfidex)\n",
            "  Downloading nvidia_cudnn_cu12-9.1.0.70-py3-none-manylinux2014_x86_64.whl.metadata (1.6 kB)\n",
            "Collecting nvidia-cublas-cu12==12.4.5.8 (from torch>=2.3->dimlpfidex)\n",
            "  Downloading nvidia_cublas_cu12-12.4.5.8-py3-none-manylinux2014_x86_64.whl.metadata (1.5 kB)\n",
            "Collecting nvidia-cufft-cu12==11.2.1.3 (from torch>=2.3->dimlpfidex)\n",
            "  Downloading nvidia_cufft_cu12-11.2.1.3-py3-none-manylinux2014_x86_64.whl.metadata (1.5 kB)\n",
            "Collecting nvidia-curand-cu12==10.3.5.147 (from torch>=2.3->dimlpfidex)\n",
            "  Downloading nvidia_curand_cu12-10.3.5.147-py3-none-manylinux2014_x86_64.whl.metadata (1.5 kB)\n",
            "Collecting nvidia-cusolver-cu12==11.6.1.9 (from torch>=2.3->dimlpfidex)\n",
            "  Downloading nvidia_cusolver_cu12-11.6.1.9-py3-none-manylinux2014_x86_64.whl.metadata (1.6 kB)\n",
            "Collecting nvidia-cusparse-cu12==12.3.1.170 (from torch>=2.3->dimlpfidex)\n",
            "  Downloading nvidia_cusparse_cu12-12.3.1.170-py3-none-manylinux2014_x86_64.whl.metadata (1.6 kB)\n",
            "Requirement already satisfied: nvidia-nccl-cu12==2.21.5 in /usr/local/lib/python3.11/dist-packages (from torch>=2.3->dimlpfidex) (2.21.5)\n",
            "Requirement already satisfied: nvidia-nvtx-cu12==12.4.127 in /usr/local/lib/python3.11/dist-packages (from torch>=2.3->dimlpfidex) (12.4.127)\n",
            "Collecting nvidia-nvjitlink-cu12==12.4.127 (from torch>=2.3->dimlpfidex)\n",
            "  Downloading nvidia_nvjitlink_cu12-12.4.127-py3-none-manylinux2014_x86_64.whl.metadata (1.5 kB)\n",
            "Requirement already satisfied: triton==3.1.0 in /usr/local/lib/python3.11/dist-packages (from torch>=2.3->dimlpfidex) (3.1.0)\n",
            "Requirement already satisfied: sympy==1.13.1 in /usr/local/lib/python3.11/dist-packages (from torch>=2.3->dimlpfidex) (1.13.1)\n",
            "Requirement already satisfied: mpmath<1.4,>=1.1.0 in /usr/local/lib/python3.11/dist-packages (from sympy==1.13.1->torch>=2.3->dimlpfidex) (1.3.0)\n",
            "Requirement already satisfied: MarkupSafe>=2.0 in /usr/local/lib/python3.11/dist-packages (from Jinja2>=3.1->sphinx>=7.3.7->dimlpfidex) (3.0.2)\n",
            "Requirement already satisfied: charset-normalizer<4,>=2 in /usr/local/lib/python3.11/dist-packages (from requests>=2.30.0->sphinx>=7.3.7->dimlpfidex) (3.4.1)\n",
            "Requirement already satisfied: idna<4,>=2.5 in /usr/local/lib/python3.11/dist-packages (from requests>=2.30.0->sphinx>=7.3.7->dimlpfidex) (3.10)\n",
            "Requirement already satisfied: urllib3<3,>=1.21.1 in /usr/local/lib/python3.11/dist-packages (from requests>=2.30.0->sphinx>=7.3.7->dimlpfidex) (2.3.0)\n",
            "Requirement already satisfied: soupsieve>1.2 in /usr/local/lib/python3.11/dist-packages (from beautifulsoup4->exhale>=0.3.7->dimlpfidex) (2.6)\n",
            "Requirement already satisfied: markdown-it-py>=2.2.0 in /usr/local/lib/python3.11/dist-packages (from rich->keras>=3.3->dimlpfidex) (3.0.0)\n",
            "Requirement already satisfied: mdurl~=0.1 in /usr/local/lib/python3.11/dist-packages (from markdown-it-py>=2.2.0->rich->keras>=3.3->dimlpfidex) (0.1.2)\n",
            "Downloading dimlpfidex-1.0.1-cp311-cp311-manylinux_2_17_x86_64.manylinux2014_x86_64.whl (900 kB)\n",
            "\u001b[2K   \u001b[90m━━━━━━━━━━━━━━━━━━━━━━━━━━━━━━━━━━━━━━━━\u001b[0m \u001b[32m900.9/900.9 kB\u001b[0m \u001b[31m36.1 MB/s\u001b[0m eta \u001b[36m0:00:00\u001b[0m\n",
            "\u001b[?25hDownloading breathe-4.35.0-py3-none-any.whl (92 kB)\n",
            "\u001b[2K   \u001b[90m━━━━━━━━━━━━━━━━━━━━━━━━━━━━━━━━━━━━━━━━\u001b[0m \u001b[32m93.0/93.0 kB\u001b[0m \u001b[31m7.8 MB/s\u001b[0m eta \u001b[36m0:00:00\u001b[0m\n",
            "\u001b[?25hDownloading build-1.2.2.post1-py3-none-any.whl (22 kB)\n",
            "Downloading cibuildwheel-2.22.0-py3-none-any.whl (91 kB)\n",
            "\u001b[2K   \u001b[90m━━━━━━━━━━━━━━━━━━━━━━━━━━━━━━━━━━━━━━━━\u001b[0m \u001b[32m91.7/91.7 kB\u001b[0m \u001b[31m5.7 MB/s\u001b[0m eta \u001b[36m0:00:00\u001b[0m\n",
            "\u001b[?25hDownloading exhale-0.3.7-py3-none-any.whl (108 kB)\n",
            "\u001b[2K   \u001b[90m━━━━━━━━━━━━━━━━━━━━━━━━━━━━━━━━━━━━━━━━\u001b[0m \u001b[32m108.1/108.1 kB\u001b[0m \u001b[31m9.8 MB/s\u001b[0m eta \u001b[36m0:00:00\u001b[0m\n",
            "\u001b[?25hUsing cached pybind11-2.13.6-py3-none-any.whl (243 kB)\n",
            "Downloading pybind11_global-2.13.6-py3-none-any.whl (439 kB)\n",
            "\u001b[2K   \u001b[90m━━━━━━━━━━━━━━━━━━━━━━━━━━━━━━━━━━━━━━━━\u001b[0m \u001b[32m439.5/439.5 kB\u001b[0m \u001b[31m27.3 MB/s\u001b[0m eta \u001b[36m0:00:00\u001b[0m\n",
            "\u001b[?25hDownloading sphinx_rtd_theme-3.0.2-py2.py3-none-any.whl (7.7 MB)\n",
            "\u001b[2K   \u001b[90m━━━━━━━━━━━━━━━━━━━━━━━━━━━━━━━━━━━━━━━━\u001b[0m \u001b[32m7.7/7.7 MB\u001b[0m \u001b[31m64.5 MB/s\u001b[0m eta \u001b[36m0:00:00\u001b[0m\n",
            "\u001b[?25hDownloading nvidia_cublas_cu12-12.4.5.8-py3-none-manylinux2014_x86_64.whl (363.4 MB)\n",
            "\u001b[2K   \u001b[90m━━━━━━━━━━━━━━━━━━━━━━━━━━━━━━━━━━━━━━━━\u001b[0m \u001b[32m363.4/363.4 MB\u001b[0m \u001b[31m4.5 MB/s\u001b[0m eta \u001b[36m0:00:00\u001b[0m\n",
            "\u001b[?25hDownloading nvidia_cuda_cupti_cu12-12.4.127-py3-none-manylinux2014_x86_64.whl (13.8 MB)\n",
            "\u001b[2K   \u001b[90m━━━━━━━━━━━━━━━━━━━━━━━━━━━━━━━━━━━━━━━━\u001b[0m \u001b[32m13.8/13.8 MB\u001b[0m \u001b[31m92.9 MB/s\u001b[0m eta \u001b[36m0:00:00\u001b[0m\n",
            "\u001b[?25hDownloading nvidia_cuda_nvrtc_cu12-12.4.127-py3-none-manylinux2014_x86_64.whl (24.6 MB)\n",
            "\u001b[2K   \u001b[90m━━━━━━━━━━━━━━━━━━━━━━━━━━━━━━━━━━━━━━━━\u001b[0m \u001b[32m24.6/24.6 MB\u001b[0m \u001b[31m74.5 MB/s\u001b[0m eta \u001b[36m0:00:00\u001b[0m\n",
            "\u001b[?25hDownloading nvidia_cuda_runtime_cu12-12.4.127-py3-none-manylinux2014_x86_64.whl (883 kB)\n",
            "\u001b[2K   \u001b[90m━━━━━━━━━━━━━━━━━━━━━━━━━━━━━━━━━━━━━━━━\u001b[0m \u001b[32m883.7/883.7 kB\u001b[0m \u001b[31m42.9 MB/s\u001b[0m eta \u001b[36m0:00:00\u001b[0m\n",
            "\u001b[?25hDownloading nvidia_cudnn_cu12-9.1.0.70-py3-none-manylinux2014_x86_64.whl (664.8 MB)\n",
            "\u001b[2K   \u001b[90m━━━━━━━━━━━━━━━━━━━━━━━━━━━━━━━━━━━━━━━━\u001b[0m \u001b[32m664.8/664.8 MB\u001b[0m \u001b[31m3.1 MB/s\u001b[0m eta \u001b[36m0:00:00\u001b[0m\n",
            "\u001b[?25hDownloading nvidia_cufft_cu12-11.2.1.3-py3-none-manylinux2014_x86_64.whl (211.5 MB)\n",
            "\u001b[2K   \u001b[90m━━━━━━━━━━━━━━━━━━━━━━━━━━━━━━━━━━━━━━━━\u001b[0m \u001b[32m211.5/211.5 MB\u001b[0m \u001b[31m5.8 MB/s\u001b[0m eta \u001b[36m0:00:00\u001b[0m\n",
            "\u001b[?25hDownloading nvidia_curand_cu12-10.3.5.147-py3-none-manylinux2014_x86_64.whl (56.3 MB)\n",
            "\u001b[2K   \u001b[90m━━━━━━━━━━━━━━━━━━━━━━━━━━━━━━━━━━━━━━━━\u001b[0m \u001b[32m56.3/56.3 MB\u001b[0m \u001b[31m12.3 MB/s\u001b[0m eta \u001b[36m0:00:00\u001b[0m\n",
            "\u001b[?25hDownloading nvidia_cusolver_cu12-11.6.1.9-py3-none-manylinux2014_x86_64.whl (127.9 MB)\n",
            "\u001b[2K   \u001b[90m━━━━━━━━━━━━━━━━━━━━━━━━━━━━━━━━━━━━━━━━\u001b[0m \u001b[32m127.9/127.9 MB\u001b[0m \u001b[31m7.6 MB/s\u001b[0m eta \u001b[36m0:00:00\u001b[0m\n",
            "\u001b[?25hDownloading nvidia_cusparse_cu12-12.3.1.170-py3-none-manylinux2014_x86_64.whl (207.5 MB)\n",
            "\u001b[2K   \u001b[90m━━━━━━━━━━━━━━━━━━━━━━━━━━━━━━━━━━━━━━━━\u001b[0m \u001b[32m207.5/207.5 MB\u001b[0m \u001b[31m5.9 MB/s\u001b[0m eta \u001b[36m0:00:00\u001b[0m\n",
            "\u001b[?25hDownloading nvidia_nvjitlink_cu12-12.4.127-py3-none-manylinux2014_x86_64.whl (21.1 MB)\n",
            "\u001b[2K   \u001b[90m━━━━━━━━━━━━━━━━━━━━━━━━━━━━━━━━━━━━━━━━\u001b[0m \u001b[32m21.1/21.1 MB\u001b[0m \u001b[31m54.5 MB/s\u001b[0m eta \u001b[36m0:00:00\u001b[0m\n",
            "\u001b[?25hDownloading bashlex-0.18-py2.py3-none-any.whl (69 kB)\n",
            "\u001b[2K   \u001b[90m━━━━━━━━━━━━━━━━━━━━━━━━━━━━━━━━━━━━━━━━\u001b[0m \u001b[32m69.5/69.5 kB\u001b[0m \u001b[31m5.7 MB/s\u001b[0m eta \u001b[36m0:00:00\u001b[0m\n",
            "\u001b[?25hDownloading dependency_groups-1.3.0-py3-none-any.whl (8.6 kB)\n",
            "Downloading sphinxcontrib_jquery-4.1-py2.py3-none-any.whl (121 kB)\n",
            "\u001b[2K   \u001b[90m━━━━━━━━━━━━━━━━━━━━━━━━━━━━━━━━━━━━━━━━\u001b[0m \u001b[32m121.1/121.1 kB\u001b[0m \u001b[31m8.8 MB/s\u001b[0m eta \u001b[36m0:00:00\u001b[0m\n",
            "\u001b[?25hDownloading bracex-2.5.post1-py3-none-any.whl (11 kB)\n",
            "Downloading pyproject_hooks-1.2.0-py3-none-any.whl (10 kB)\n",
            "Installing collected packages: pyproject_hooks, pybind11-global, pybind11, nvidia-nvjitlink-cu12, nvidia-curand-cu12, nvidia-cufft-cu12, nvidia-cuda-runtime-cu12, nvidia-cuda-nvrtc-cu12, nvidia-cuda-cupti-cu12, nvidia-cublas-cu12, dependency-groups, bracex, bashlex, nvidia-cusparse-cu12, nvidia-cudnn-cu12, cibuildwheel, build, sphinxcontrib-jquery, nvidia-cusolver-cu12, breathe, sphinx-rtd-theme, exhale, dimlpfidex\n",
            "  Attempting uninstall: nvidia-nvjitlink-cu12\n",
            "    Found existing installation: nvidia-nvjitlink-cu12 12.5.82\n",
            "    Uninstalling nvidia-nvjitlink-cu12-12.5.82:\n",
            "      Successfully uninstalled nvidia-nvjitlink-cu12-12.5.82\n",
            "  Attempting uninstall: nvidia-curand-cu12\n",
            "    Found existing installation: nvidia-curand-cu12 10.3.6.82\n",
            "    Uninstalling nvidia-curand-cu12-10.3.6.82:\n",
            "      Successfully uninstalled nvidia-curand-cu12-10.3.6.82\n",
            "  Attempting uninstall: nvidia-cufft-cu12\n",
            "    Found existing installation: nvidia-cufft-cu12 11.2.3.61\n",
            "    Uninstalling nvidia-cufft-cu12-11.2.3.61:\n",
            "      Successfully uninstalled nvidia-cufft-cu12-11.2.3.61\n",
            "  Attempting uninstall: nvidia-cuda-runtime-cu12\n",
            "    Found existing installation: nvidia-cuda-runtime-cu12 12.5.82\n",
            "    Uninstalling nvidia-cuda-runtime-cu12-12.5.82:\n",
            "      Successfully uninstalled nvidia-cuda-runtime-cu12-12.5.82\n",
            "  Attempting uninstall: nvidia-cuda-nvrtc-cu12\n",
            "    Found existing installation: nvidia-cuda-nvrtc-cu12 12.5.82\n",
            "    Uninstalling nvidia-cuda-nvrtc-cu12-12.5.82:\n",
            "      Successfully uninstalled nvidia-cuda-nvrtc-cu12-12.5.82\n",
            "  Attempting uninstall: nvidia-cuda-cupti-cu12\n",
            "    Found existing installation: nvidia-cuda-cupti-cu12 12.5.82\n",
            "    Uninstalling nvidia-cuda-cupti-cu12-12.5.82:\n",
            "      Successfully uninstalled nvidia-cuda-cupti-cu12-12.5.82\n",
            "  Attempting uninstall: nvidia-cublas-cu12\n",
            "    Found existing installation: nvidia-cublas-cu12 12.5.3.2\n",
            "    Uninstalling nvidia-cublas-cu12-12.5.3.2:\n",
            "      Successfully uninstalled nvidia-cublas-cu12-12.5.3.2\n",
            "  Attempting uninstall: nvidia-cusparse-cu12\n",
            "    Found existing installation: nvidia-cusparse-cu12 12.5.1.3\n",
            "    Uninstalling nvidia-cusparse-cu12-12.5.1.3:\n",
            "      Successfully uninstalled nvidia-cusparse-cu12-12.5.1.3\n",
            "  Attempting uninstall: nvidia-cudnn-cu12\n",
            "    Found existing installation: nvidia-cudnn-cu12 9.3.0.75\n",
            "    Uninstalling nvidia-cudnn-cu12-9.3.0.75:\n",
            "      Successfully uninstalled nvidia-cudnn-cu12-9.3.0.75\n",
            "  Attempting uninstall: nvidia-cusolver-cu12\n",
            "    Found existing installation: nvidia-cusolver-cu12 11.6.3.83\n",
            "    Uninstalling nvidia-cusolver-cu12-11.6.3.83:\n",
            "      Successfully uninstalled nvidia-cusolver-cu12-11.6.3.83\n",
            "Successfully installed bashlex-0.18 bracex-2.5.post1 breathe-4.35.0 build-1.2.2.post1 cibuildwheel-2.22.0 dependency-groups-1.3.0 dimlpfidex-1.0.1 exhale-0.3.7 nvidia-cublas-cu12-12.4.5.8 nvidia-cuda-cupti-cu12-12.4.127 nvidia-cuda-nvrtc-cu12-12.4.127 nvidia-cuda-runtime-cu12-12.4.127 nvidia-cudnn-cu12-9.1.0.70 nvidia-cufft-cu12-11.2.1.3 nvidia-curand-cu12-10.3.5.147 nvidia-cusolver-cu12-11.6.1.9 nvidia-cusparse-cu12-12.3.1.170 nvidia-nvjitlink-cu12-12.4.127 pybind11-2.13.6 pybind11-global-2.13.6 pyproject_hooks-1.2.0 sphinx-rtd-theme-3.0.2 sphinxcontrib-jquery-4.1\n"
          ]
        }
      ]
    },
    {
      "cell_type": "code",
      "execution_count": 5,
      "id": "91124587-3976-42d6-9fe3-82217b7380f0",
      "metadata": {
        "id": "91124587-3976-42d6-9fe3-82217b7380f0"
      },
      "outputs": [],
      "source": [
        "import numpy as np\n",
        "import pandas as pd\n",
        "import pathlib as pl\n",
        "import matplotlib.pyplot as plt\n",
        "import os\n",
        "import pickle\n",
        "import kagglehub\n",
        "\n",
        "from sklearn.model_selection import train_test_split\n",
        "from sklearn.ensemble import RandomForestClassifier\n",
        "from sklearn.model_selection import GridSearchCV, RepeatedStratifiedKFold\n",
        "\n",
        "from dimlpfidex.fidex import fidex, fidexGloRules, fidexGloStats\n",
        "\n",
        "# We'll try with this: https://hes-xplain.github.io/documentation/dimlpfidex/training-methods/randforeststrn/#arguments-list\n",
        "\n",
        "# Example notebook here: https://colab.research.google.com/github/HES-XPLAIN/notebooks/blob/main/use_case_dimlpfidex/obesityCvdRisk.ipynb#scrollTo=9chG9JhJB0i3\n",
        "\n",
        "from trainings import randForestsTrn # Part of DIMLPFIDEX\n",
        "\n"
      ]
    },
    {
      "cell_type": "code",
      "execution_count": 6,
      "id": "2f5aaed7",
      "metadata": {
        "id": "2f5aaed7"
      },
      "outputs": [],
      "source": [
        "# Make rf directory\n",
        "os.makedirs('./notebooks/rf', exist_ok=True)\n",
        "root_dir = pl.Path(\"./notebooks/rf\")"
      ]
    },
    {
      "cell_type": "code",
      "execution_count": 7,
      "id": "309be2b1",
      "metadata": {
        "id": "309be2b1",
        "outputId": "5946918b-4760-439a-8e81-68096efb2398",
        "colab": {
          "base_uri": "https://localhost:8080/"
        }
      },
      "outputs": [
        {
          "output_type": "stream",
          "name": "stdout",
          "text": [
            "/content\n"
          ]
        }
      ],
      "source": [
        "# Launch the server from the root (IMPTOX_XAI) directory\n",
        "!pwd"
      ]
    },
    {
      "cell_type": "code",
      "execution_count": 8,
      "id": "15cc16ce-85a3-4cc5-813c-6887d9a87ba5",
      "metadata": {
        "id": "15cc16ce-85a3-4cc5-813c-6887d9a87ba5",
        "outputId": "11beabcd-8ced-43fb-c120-671809417fe3",
        "colab": {
          "base_uri": "https://localhost:8080/",
          "height": 510
        }
      },
      "outputs": [
        {
          "output_type": "stream",
          "name": "stdout",
          "text": [
            "Warning: Looks like you're using an outdated `kagglehub` version (installed: 0.3.6), please consider upgrading to the latest version (0.3.7).\n",
            "Downloading from https://www.kaggle.com/api/v1/datasets/download/gargmanas/pima-indians-diabetes?dataset_version_number=1...\n"
          ]
        },
        {
          "output_type": "stream",
          "name": "stderr",
          "text": [
            "100%|██████████| 8.79k/8.79k [00:00<00:00, 5.59MB/s]"
          ]
        },
        {
          "output_type": "stream",
          "name": "stdout",
          "text": [
            "Extracting files...\n",
            "Path to dataset files: /root/.cache/kagglehub/datasets/gargmanas/pima-indians-diabetes/versions/1\n"
          ]
        },
        {
          "output_type": "stream",
          "name": "stderr",
          "text": [
            "\n"
          ]
        },
        {
          "output_type": "execute_result",
          "data": {
            "text/plain": [
              "     Pregnancies  Glucose  BloodPressure  SkinThickness  Insulin   BMI  \\\n",
              "0              1       85             66             29        0  26.6   \n",
              "1              8      183             64              0        0  23.3   \n",
              "2              1       89             66             23       94  28.1   \n",
              "3              0      137             40             35      168  43.1   \n",
              "4              5      116             74              0        0  25.6   \n",
              "..           ...      ...            ...            ...      ...   ...   \n",
              "762           10      101             76             48      180  32.9   \n",
              "763            2      122             70             27        0  36.8   \n",
              "764            5      121             72             23      112  26.2   \n",
              "765            1      126             60              0        0  30.1   \n",
              "766            1       93             70             31        0  30.4   \n",
              "\n",
              "     DiabetesPedigreeFunction  Age  OUT  \n",
              "0                       0.351   31    0  \n",
              "1                       0.672   32    1  \n",
              "2                       0.167   21    0  \n",
              "3                       2.288   33    1  \n",
              "4                       0.201   30    0  \n",
              "..                        ...  ...  ...  \n",
              "762                     0.171   63    0  \n",
              "763                     0.340   27    0  \n",
              "764                     0.245   30    0  \n",
              "765                     0.349   47    1  \n",
              "766                     0.315   23    0  \n",
              "\n",
              "[767 rows x 9 columns]"
            ],
            "text/html": [
              "\n",
              "  <div id=\"df-f76b3ff9-76b1-4564-a4c0-96fbb6baa7c8\" class=\"colab-df-container\">\n",
              "    <div>\n",
              "<style scoped>\n",
              "    .dataframe tbody tr th:only-of-type {\n",
              "        vertical-align: middle;\n",
              "    }\n",
              "\n",
              "    .dataframe tbody tr th {\n",
              "        vertical-align: top;\n",
              "    }\n",
              "\n",
              "    .dataframe thead th {\n",
              "        text-align: right;\n",
              "    }\n",
              "</style>\n",
              "<table border=\"1\" class=\"dataframe\">\n",
              "  <thead>\n",
              "    <tr style=\"text-align: right;\">\n",
              "      <th></th>\n",
              "      <th>Pregnancies</th>\n",
              "      <th>Glucose</th>\n",
              "      <th>BloodPressure</th>\n",
              "      <th>SkinThickness</th>\n",
              "      <th>Insulin</th>\n",
              "      <th>BMI</th>\n",
              "      <th>DiabetesPedigreeFunction</th>\n",
              "      <th>Age</th>\n",
              "      <th>OUT</th>\n",
              "    </tr>\n",
              "  </thead>\n",
              "  <tbody>\n",
              "    <tr>\n",
              "      <th>0</th>\n",
              "      <td>1</td>\n",
              "      <td>85</td>\n",
              "      <td>66</td>\n",
              "      <td>29</td>\n",
              "      <td>0</td>\n",
              "      <td>26.6</td>\n",
              "      <td>0.351</td>\n",
              "      <td>31</td>\n",
              "      <td>0</td>\n",
              "    </tr>\n",
              "    <tr>\n",
              "      <th>1</th>\n",
              "      <td>8</td>\n",
              "      <td>183</td>\n",
              "      <td>64</td>\n",
              "      <td>0</td>\n",
              "      <td>0</td>\n",
              "      <td>23.3</td>\n",
              "      <td>0.672</td>\n",
              "      <td>32</td>\n",
              "      <td>1</td>\n",
              "    </tr>\n",
              "    <tr>\n",
              "      <th>2</th>\n",
              "      <td>1</td>\n",
              "      <td>89</td>\n",
              "      <td>66</td>\n",
              "      <td>23</td>\n",
              "      <td>94</td>\n",
              "      <td>28.1</td>\n",
              "      <td>0.167</td>\n",
              "      <td>21</td>\n",
              "      <td>0</td>\n",
              "    </tr>\n",
              "    <tr>\n",
              "      <th>3</th>\n",
              "      <td>0</td>\n",
              "      <td>137</td>\n",
              "      <td>40</td>\n",
              "      <td>35</td>\n",
              "      <td>168</td>\n",
              "      <td>43.1</td>\n",
              "      <td>2.288</td>\n",
              "      <td>33</td>\n",
              "      <td>1</td>\n",
              "    </tr>\n",
              "    <tr>\n",
              "      <th>4</th>\n",
              "      <td>5</td>\n",
              "      <td>116</td>\n",
              "      <td>74</td>\n",
              "      <td>0</td>\n",
              "      <td>0</td>\n",
              "      <td>25.6</td>\n",
              "      <td>0.201</td>\n",
              "      <td>30</td>\n",
              "      <td>0</td>\n",
              "    </tr>\n",
              "    <tr>\n",
              "      <th>...</th>\n",
              "      <td>...</td>\n",
              "      <td>...</td>\n",
              "      <td>...</td>\n",
              "      <td>...</td>\n",
              "      <td>...</td>\n",
              "      <td>...</td>\n",
              "      <td>...</td>\n",
              "      <td>...</td>\n",
              "      <td>...</td>\n",
              "    </tr>\n",
              "    <tr>\n",
              "      <th>762</th>\n",
              "      <td>10</td>\n",
              "      <td>101</td>\n",
              "      <td>76</td>\n",
              "      <td>48</td>\n",
              "      <td>180</td>\n",
              "      <td>32.9</td>\n",
              "      <td>0.171</td>\n",
              "      <td>63</td>\n",
              "      <td>0</td>\n",
              "    </tr>\n",
              "    <tr>\n",
              "      <th>763</th>\n",
              "      <td>2</td>\n",
              "      <td>122</td>\n",
              "      <td>70</td>\n",
              "      <td>27</td>\n",
              "      <td>0</td>\n",
              "      <td>36.8</td>\n",
              "      <td>0.340</td>\n",
              "      <td>27</td>\n",
              "      <td>0</td>\n",
              "    </tr>\n",
              "    <tr>\n",
              "      <th>764</th>\n",
              "      <td>5</td>\n",
              "      <td>121</td>\n",
              "      <td>72</td>\n",
              "      <td>23</td>\n",
              "      <td>112</td>\n",
              "      <td>26.2</td>\n",
              "      <td>0.245</td>\n",
              "      <td>30</td>\n",
              "      <td>0</td>\n",
              "    </tr>\n",
              "    <tr>\n",
              "      <th>765</th>\n",
              "      <td>1</td>\n",
              "      <td>126</td>\n",
              "      <td>60</td>\n",
              "      <td>0</td>\n",
              "      <td>0</td>\n",
              "      <td>30.1</td>\n",
              "      <td>0.349</td>\n",
              "      <td>47</td>\n",
              "      <td>1</td>\n",
              "    </tr>\n",
              "    <tr>\n",
              "      <th>766</th>\n",
              "      <td>1</td>\n",
              "      <td>93</td>\n",
              "      <td>70</td>\n",
              "      <td>31</td>\n",
              "      <td>0</td>\n",
              "      <td>30.4</td>\n",
              "      <td>0.315</td>\n",
              "      <td>23</td>\n",
              "      <td>0</td>\n",
              "    </tr>\n",
              "  </tbody>\n",
              "</table>\n",
              "<p>767 rows × 9 columns</p>\n",
              "</div>\n",
              "    <div class=\"colab-df-buttons\">\n",
              "\n",
              "  <div class=\"colab-df-container\">\n",
              "    <button class=\"colab-df-convert\" onclick=\"convertToInteractive('df-f76b3ff9-76b1-4564-a4c0-96fbb6baa7c8')\"\n",
              "            title=\"Convert this dataframe to an interactive table.\"\n",
              "            style=\"display:none;\">\n",
              "\n",
              "  <svg xmlns=\"http://www.w3.org/2000/svg\" height=\"24px\" viewBox=\"0 -960 960 960\">\n",
              "    <path d=\"M120-120v-720h720v720H120Zm60-500h600v-160H180v160Zm220 220h160v-160H400v160Zm0 220h160v-160H400v160ZM180-400h160v-160H180v160Zm440 0h160v-160H620v160ZM180-180h160v-160H180v160Zm440 0h160v-160H620v160Z\"/>\n",
              "  </svg>\n",
              "    </button>\n",
              "\n",
              "  <style>\n",
              "    .colab-df-container {\n",
              "      display:flex;\n",
              "      gap: 12px;\n",
              "    }\n",
              "\n",
              "    .colab-df-convert {\n",
              "      background-color: #E8F0FE;\n",
              "      border: none;\n",
              "      border-radius: 50%;\n",
              "      cursor: pointer;\n",
              "      display: none;\n",
              "      fill: #1967D2;\n",
              "      height: 32px;\n",
              "      padding: 0 0 0 0;\n",
              "      width: 32px;\n",
              "    }\n",
              "\n",
              "    .colab-df-convert:hover {\n",
              "      background-color: #E2EBFA;\n",
              "      box-shadow: 0px 1px 2px rgba(60, 64, 67, 0.3), 0px 1px 3px 1px rgba(60, 64, 67, 0.15);\n",
              "      fill: #174EA6;\n",
              "    }\n",
              "\n",
              "    .colab-df-buttons div {\n",
              "      margin-bottom: 4px;\n",
              "    }\n",
              "\n",
              "    [theme=dark] .colab-df-convert {\n",
              "      background-color: #3B4455;\n",
              "      fill: #D2E3FC;\n",
              "    }\n",
              "\n",
              "    [theme=dark] .colab-df-convert:hover {\n",
              "      background-color: #434B5C;\n",
              "      box-shadow: 0px 1px 3px 1px rgba(0, 0, 0, 0.15);\n",
              "      filter: drop-shadow(0px 1px 2px rgba(0, 0, 0, 0.3));\n",
              "      fill: #FFFFFF;\n",
              "    }\n",
              "  </style>\n",
              "\n",
              "    <script>\n",
              "      const buttonEl =\n",
              "        document.querySelector('#df-f76b3ff9-76b1-4564-a4c0-96fbb6baa7c8 button.colab-df-convert');\n",
              "      buttonEl.style.display =\n",
              "        google.colab.kernel.accessAllowed ? 'block' : 'none';\n",
              "\n",
              "      async function convertToInteractive(key) {\n",
              "        const element = document.querySelector('#df-f76b3ff9-76b1-4564-a4c0-96fbb6baa7c8');\n",
              "        const dataTable =\n",
              "          await google.colab.kernel.invokeFunction('convertToInteractive',\n",
              "                                                    [key], {});\n",
              "        if (!dataTable) return;\n",
              "\n",
              "        const docLinkHtml = 'Like what you see? Visit the ' +\n",
              "          '<a target=\"_blank\" href=https://colab.research.google.com/notebooks/data_table.ipynb>data table notebook</a>'\n",
              "          + ' to learn more about interactive tables.';\n",
              "        element.innerHTML = '';\n",
              "        dataTable['output_type'] = 'display_data';\n",
              "        await google.colab.output.renderOutput(dataTable, element);\n",
              "        const docLink = document.createElement('div');\n",
              "        docLink.innerHTML = docLinkHtml;\n",
              "        element.appendChild(docLink);\n",
              "      }\n",
              "    </script>\n",
              "  </div>\n",
              "\n",
              "\n",
              "<div id=\"df-8db2e941-9806-4bc5-a5c1-0da4b42c193b\">\n",
              "  <button class=\"colab-df-quickchart\" onclick=\"quickchart('df-8db2e941-9806-4bc5-a5c1-0da4b42c193b')\"\n",
              "            title=\"Suggest charts\"\n",
              "            style=\"display:none;\">\n",
              "\n",
              "<svg xmlns=\"http://www.w3.org/2000/svg\" height=\"24px\"viewBox=\"0 0 24 24\"\n",
              "     width=\"24px\">\n",
              "    <g>\n",
              "        <path d=\"M19 3H5c-1.1 0-2 .9-2 2v14c0 1.1.9 2 2 2h14c1.1 0 2-.9 2-2V5c0-1.1-.9-2-2-2zM9 17H7v-7h2v7zm4 0h-2V7h2v10zm4 0h-2v-4h2v4z\"/>\n",
              "    </g>\n",
              "</svg>\n",
              "  </button>\n",
              "\n",
              "<style>\n",
              "  .colab-df-quickchart {\n",
              "      --bg-color: #E8F0FE;\n",
              "      --fill-color: #1967D2;\n",
              "      --hover-bg-color: #E2EBFA;\n",
              "      --hover-fill-color: #174EA6;\n",
              "      --disabled-fill-color: #AAA;\n",
              "      --disabled-bg-color: #DDD;\n",
              "  }\n",
              "\n",
              "  [theme=dark] .colab-df-quickchart {\n",
              "      --bg-color: #3B4455;\n",
              "      --fill-color: #D2E3FC;\n",
              "      --hover-bg-color: #434B5C;\n",
              "      --hover-fill-color: #FFFFFF;\n",
              "      --disabled-bg-color: #3B4455;\n",
              "      --disabled-fill-color: #666;\n",
              "  }\n",
              "\n",
              "  .colab-df-quickchart {\n",
              "    background-color: var(--bg-color);\n",
              "    border: none;\n",
              "    border-radius: 50%;\n",
              "    cursor: pointer;\n",
              "    display: none;\n",
              "    fill: var(--fill-color);\n",
              "    height: 32px;\n",
              "    padding: 0;\n",
              "    width: 32px;\n",
              "  }\n",
              "\n",
              "  .colab-df-quickchart:hover {\n",
              "    background-color: var(--hover-bg-color);\n",
              "    box-shadow: 0 1px 2px rgba(60, 64, 67, 0.3), 0 1px 3px 1px rgba(60, 64, 67, 0.15);\n",
              "    fill: var(--button-hover-fill-color);\n",
              "  }\n",
              "\n",
              "  .colab-df-quickchart-complete:disabled,\n",
              "  .colab-df-quickchart-complete:disabled:hover {\n",
              "    background-color: var(--disabled-bg-color);\n",
              "    fill: var(--disabled-fill-color);\n",
              "    box-shadow: none;\n",
              "  }\n",
              "\n",
              "  .colab-df-spinner {\n",
              "    border: 2px solid var(--fill-color);\n",
              "    border-color: transparent;\n",
              "    border-bottom-color: var(--fill-color);\n",
              "    animation:\n",
              "      spin 1s steps(1) infinite;\n",
              "  }\n",
              "\n",
              "  @keyframes spin {\n",
              "    0% {\n",
              "      border-color: transparent;\n",
              "      border-bottom-color: var(--fill-color);\n",
              "      border-left-color: var(--fill-color);\n",
              "    }\n",
              "    20% {\n",
              "      border-color: transparent;\n",
              "      border-left-color: var(--fill-color);\n",
              "      border-top-color: var(--fill-color);\n",
              "    }\n",
              "    30% {\n",
              "      border-color: transparent;\n",
              "      border-left-color: var(--fill-color);\n",
              "      border-top-color: var(--fill-color);\n",
              "      border-right-color: var(--fill-color);\n",
              "    }\n",
              "    40% {\n",
              "      border-color: transparent;\n",
              "      border-right-color: var(--fill-color);\n",
              "      border-top-color: var(--fill-color);\n",
              "    }\n",
              "    60% {\n",
              "      border-color: transparent;\n",
              "      border-right-color: var(--fill-color);\n",
              "    }\n",
              "    80% {\n",
              "      border-color: transparent;\n",
              "      border-right-color: var(--fill-color);\n",
              "      border-bottom-color: var(--fill-color);\n",
              "    }\n",
              "    90% {\n",
              "      border-color: transparent;\n",
              "      border-bottom-color: var(--fill-color);\n",
              "    }\n",
              "  }\n",
              "</style>\n",
              "\n",
              "  <script>\n",
              "    async function quickchart(key) {\n",
              "      const quickchartButtonEl =\n",
              "        document.querySelector('#' + key + ' button');\n",
              "      quickchartButtonEl.disabled = true;  // To prevent multiple clicks.\n",
              "      quickchartButtonEl.classList.add('colab-df-spinner');\n",
              "      try {\n",
              "        const charts = await google.colab.kernel.invokeFunction(\n",
              "            'suggestCharts', [key], {});\n",
              "      } catch (error) {\n",
              "        console.error('Error during call to suggestCharts:', error);\n",
              "      }\n",
              "      quickchartButtonEl.classList.remove('colab-df-spinner');\n",
              "      quickchartButtonEl.classList.add('colab-df-quickchart-complete');\n",
              "    }\n",
              "    (() => {\n",
              "      let quickchartButtonEl =\n",
              "        document.querySelector('#df-8db2e941-9806-4bc5-a5c1-0da4b42c193b button');\n",
              "      quickchartButtonEl.style.display =\n",
              "        google.colab.kernel.accessAllowed ? 'block' : 'none';\n",
              "    })();\n",
              "  </script>\n",
              "</div>\n",
              "\n",
              "  <div id=\"id_67a6a340-a494-4bed-bef1-15cda7ba5f75\">\n",
              "    <style>\n",
              "      .colab-df-generate {\n",
              "        background-color: #E8F0FE;\n",
              "        border: none;\n",
              "        border-radius: 50%;\n",
              "        cursor: pointer;\n",
              "        display: none;\n",
              "        fill: #1967D2;\n",
              "        height: 32px;\n",
              "        padding: 0 0 0 0;\n",
              "        width: 32px;\n",
              "      }\n",
              "\n",
              "      .colab-df-generate:hover {\n",
              "        background-color: #E2EBFA;\n",
              "        box-shadow: 0px 1px 2px rgba(60, 64, 67, 0.3), 0px 1px 3px 1px rgba(60, 64, 67, 0.15);\n",
              "        fill: #174EA6;\n",
              "      }\n",
              "\n",
              "      [theme=dark] .colab-df-generate {\n",
              "        background-color: #3B4455;\n",
              "        fill: #D2E3FC;\n",
              "      }\n",
              "\n",
              "      [theme=dark] .colab-df-generate:hover {\n",
              "        background-color: #434B5C;\n",
              "        box-shadow: 0px 1px 3px 1px rgba(0, 0, 0, 0.15);\n",
              "        filter: drop-shadow(0px 1px 2px rgba(0, 0, 0, 0.3));\n",
              "        fill: #FFFFFF;\n",
              "      }\n",
              "    </style>\n",
              "    <button class=\"colab-df-generate\" onclick=\"generateWithVariable('df')\"\n",
              "            title=\"Generate code using this dataframe.\"\n",
              "            style=\"display:none;\">\n",
              "\n",
              "  <svg xmlns=\"http://www.w3.org/2000/svg\" height=\"24px\"viewBox=\"0 0 24 24\"\n",
              "       width=\"24px\">\n",
              "    <path d=\"M7,19H8.4L18.45,9,17,7.55,7,17.6ZM5,21V16.75L18.45,3.32a2,2,0,0,1,2.83,0l1.4,1.43a1.91,1.91,0,0,1,.58,1.4,1.91,1.91,0,0,1-.58,1.4L9.25,21ZM18.45,9,17,7.55Zm-12,3A5.31,5.31,0,0,0,4.9,8.1,5.31,5.31,0,0,0,1,6.5,5.31,5.31,0,0,0,4.9,4.9,5.31,5.31,0,0,0,6.5,1,5.31,5.31,0,0,0,8.1,4.9,5.31,5.31,0,0,0,12,6.5,5.46,5.46,0,0,0,6.5,12Z\"/>\n",
              "  </svg>\n",
              "    </button>\n",
              "    <script>\n",
              "      (() => {\n",
              "      const buttonEl =\n",
              "        document.querySelector('#id_67a6a340-a494-4bed-bef1-15cda7ba5f75 button.colab-df-generate');\n",
              "      buttonEl.style.display =\n",
              "        google.colab.kernel.accessAllowed ? 'block' : 'none';\n",
              "\n",
              "      buttonEl.onclick = () => {\n",
              "        google.colab.notebook.generateWithVariable('df');\n",
              "      }\n",
              "      })();\n",
              "    </script>\n",
              "  </div>\n",
              "\n",
              "    </div>\n",
              "  </div>\n"
            ],
            "application/vnd.google.colaboratory.intrinsic+json": {
              "type": "dataframe",
              "variable_name": "df",
              "summary": "{\n  \"name\": \"df\",\n  \"rows\": 767,\n  \"fields\": [\n    {\n      \"column\": \"Pregnancies\",\n      \"properties\": {\n        \"dtype\": \"number\",\n        \"std\": 3,\n        \"min\": 0,\n        \"max\": 17,\n        \"num_unique_values\": 17,\n        \"samples\": [\n          1,\n          8,\n          10\n        ],\n        \"semantic_type\": \"\",\n        \"description\": \"\"\n      }\n    },\n    {\n      \"column\": \"Glucose\",\n      \"properties\": {\n        \"dtype\": \"number\",\n        \"std\": 31,\n        \"min\": 0,\n        \"max\": 199,\n        \"num_unique_values\": 136,\n        \"samples\": [\n          96,\n          176,\n          113\n        ],\n        \"semantic_type\": \"\",\n        \"description\": \"\"\n      }\n    },\n    {\n      \"column\": \"BloodPressure\",\n      \"properties\": {\n        \"dtype\": \"number\",\n        \"std\": 19,\n        \"min\": 0,\n        \"max\": 122,\n        \"num_unique_values\": 47,\n        \"samples\": [\n          86,\n          46,\n          85\n        ],\n        \"semantic_type\": \"\",\n        \"description\": \"\"\n      }\n    },\n    {\n      \"column\": \"SkinThickness\",\n      \"properties\": {\n        \"dtype\": \"number\",\n        \"std\": 15,\n        \"min\": 0,\n        \"max\": 99,\n        \"num_unique_values\": 51,\n        \"samples\": [\n          7,\n          12,\n          48\n        ],\n        \"semantic_type\": \"\",\n        \"description\": \"\"\n      }\n    },\n    {\n      \"column\": \"Insulin\",\n      \"properties\": {\n        \"dtype\": \"number\",\n        \"std\": 115,\n        \"min\": 0,\n        \"max\": 846,\n        \"num_unique_values\": 186,\n        \"samples\": [\n          52,\n          41,\n          183\n        ],\n        \"semantic_type\": \"\",\n        \"description\": \"\"\n      }\n    },\n    {\n      \"column\": \"BMI\",\n      \"properties\": {\n        \"dtype\": \"number\",\n        \"std\": 7.8890909013660195,\n        \"min\": 0.0,\n        \"max\": 67.1,\n        \"num_unique_values\": 248,\n        \"samples\": [\n          27.6,\n          35.3,\n          38.1\n        ],\n        \"semantic_type\": \"\",\n        \"description\": \"\"\n      }\n    },\n    {\n      \"column\": \"DiabetesPedigreeFunction\",\n      \"properties\": {\n        \"dtype\": \"number\",\n        \"std\": 0.33149735557642684,\n        \"min\": 0.078,\n        \"max\": 2.42,\n        \"num_unique_values\": 516,\n        \"samples\": [\n          0.545,\n          0.426,\n          0.593\n        ],\n        \"semantic_type\": \"\",\n        \"description\": \"\"\n      }\n    },\n    {\n      \"column\": \"Age\",\n      \"properties\": {\n        \"dtype\": \"number\",\n        \"std\": 11,\n        \"min\": 21,\n        \"max\": 81,\n        \"num_unique_values\": 52,\n        \"samples\": [\n          60,\n          47,\n          72\n        ],\n        \"semantic_type\": \"\",\n        \"description\": \"\"\n      }\n    },\n    {\n      \"column\": \"OUT\",\n      \"properties\": {\n        \"dtype\": \"number\",\n        \"std\": 0,\n        \"min\": 0,\n        \"max\": 1,\n        \"num_unique_values\": 2,\n        \"samples\": [\n          1,\n          0\n        ],\n        \"semantic_type\": \"\",\n        \"description\": \"\"\n      }\n    }\n  ]\n}"
            }
          },
          "metadata": {},
          "execution_count": 8
        }
      ],
      "source": [
        "# Download latest version and import dataframe. Replace this with your own dataset\n",
        "path = kagglehub.dataset_download(\"gargmanas/pima-indians-diabetes\")\n",
        "print(\"Path to dataset files:\", path )\n",
        "\n",
        "df = pd.read_csv(path + '/pima-indians-diabetes.csv')\n",
        "df.columns = ['Pregnancies','Glucose','BloodPressure','SkinThickness','Insulin','BMI','DiabetesPedigreeFunction','Age','OUT']\n",
        "\n",
        "df"
      ]
    },
    {
      "cell_type": "code",
      "execution_count": null,
      "id": "7b917dbb",
      "metadata": {
        "id": "7b917dbb"
      },
      "outputs": [],
      "source": [
        "# Markdown sample for reporting\n",
        "#df.head(8).to_markdown()"
      ]
    },
    {
      "cell_type": "markdown",
      "id": "329143c2",
      "metadata": {
        "id": "329143c2"
      },
      "source": [
        "Now we have a dataset in DataFrame format with the output column last called \"OUT\", we can save the files and define our global parameters. Modify here according to your data."
      ]
    },
    {
      "cell_type": "code",
      "execution_count": 9,
      "id": "e78057bc-a37d-4640-879b-c419e88c6de6",
      "metadata": {
        "id": "e78057bc-a37d-4640-879b-c419e88c6de6"
      },
      "outputs": [],
      "source": [
        "NB_FEATURES = 8 # Number of input columns, we can set to length-1 too.\n",
        "NB_CLASSES = 2 # Not the number of output column, but the number of classes in the output column\n",
        "\n",
        "# Shuffle and split the dataset into training and testing sets\n",
        "train_data, test_data = train_test_split(df, test_size=0.2, random_state=42, shuffle=True, stratify=df['OUT'])\n",
        "\n",
        "# Full dataset to csv\n",
        "train_data.to_csv(root_dir.joinpath(\"train_dataset_full.csv\"), header=False, index=False)\n",
        "test_data.to_csv(root_dir.joinpath(\"test_dataset_full.csv\"), header=False, index=False)\n",
        "\n",
        "\n",
        "# Save the features names in a txt file\n",
        "features = df.columns[:-1]\n",
        "features_filename = \"attributes.txt\"\n",
        "with open(root_dir.joinpath(features_filename), \"w\") as file:\n",
        "    for feature in features:\n",
        "        file.write(f\"{feature}\\n\")\n",
        "\n",
        "\n",
        "# Save the dataset in txt format for the FIDEX algorithm\n",
        "# - Train and test data, without output column\n",
        "train_data.iloc[:, :-1].to_csv(root_dir.joinpath(\"train_dataset.txt\"), header=False, index=False)\n",
        "test_data.iloc[:, :-1].to_csv(root_dir.joinpath(\"test_dataset.txt\"), header=False, index=False)\n",
        "\n",
        "# - Train and test data, output column only\n",
        "train_data.iloc[:, -1:].to_csv(root_dir.joinpath(\"train_class.txt\"), header=False, index=False)\n",
        "test_data.iloc[:, -1:].to_csv(root_dir.joinpath(\"test_class.txt\"), header=False, index=False)\n",
        "\n"
      ]
    },
    {
      "cell_type": "markdown",
      "id": "52f9157a-857e-41b0-9147-37365a361042",
      "metadata": {
        "id": "52f9157a-857e-41b0-9147-37365a361042"
      },
      "source": [
        "# HES-XPLAIN training methods\n",
        "\n",
        "Here we will be using `randForestsTrn`, one of different [training methods](https://hes-xplain.github.io/documentation/dimlpfidex/training-methods/overview/) available with the FIDEX algorithm for the generation of interpretable decisions,"
      ]
    },
    {
      "cell_type": "markdown",
      "id": "674d12a6-0046-4b73-9169-8dfd231e33e3",
      "metadata": {
        "id": "674d12a6-0046-4b73-9169-8dfd231e33e3"
      },
      "source": [
        "If you are more comfortable with it, you can generate a configuration file using the [DIMLP Fidex GUI](https://hes-xplain.github.io/documentation/dimlpfidex/gui/#installation-guide). However here we are going to use basic parameters for readability and simplicity reasons. To list the different parameters and multiple options, you can execute the following code:\n",
        "\n",
        "```python\n",
        "randForestsTrn(\n",
        "\"\"\"--help\"\"\"\n",
        ")\n",
        "```\n",
        "\n",
        "Then we can execute the training using the following parameters:\n",
        "\n",
        "- `--root_folder`: Here we specified the folder notebooks/rf accessible from the root of this repository. This is from where the jupyter server should be launched.\n",
        "- `--train_data_file`: \"train_dataset_full.csv\" Different options are available. Here we provide one file containing the features as well as the output\n",
        "- `--test_data_file`: \"test_dataset_full.csv\" Different options are available. Here we provide one file containing the features as well as the output\n",
        "- `--nb_attributes`: 8 here we set the number of variables/features without the output\n",
        "- `--nb_classes`: 2 Here we set the number of classes present in the output column. In our example we have two classes (1/0)."
      ]
    },
    {
      "cell_type": "code",
      "execution_count": 10,
      "id": "4f9b8afa-7fac-458f-908f-ada4d7fb5d21",
      "metadata": {
        "id": "4f9b8afa-7fac-458f-908f-ada4d7fb5d21",
        "outputId": "4757c07c-c7ca-4f50-a041-0f4939eaf368",
        "colab": {
          "base_uri": "https://localhost:8080/"
        }
      },
      "outputs": [
        {
          "output_type": "stream",
          "name": "stdout",
          "text": [
            "Parameters list:\n",
            " - root_folder                                                   notebooks/rf\n",
            " - train_data_file                                               notebooks/rf/train_dataset_full.csv\n",
            " - test_data_file                                                notebooks/rf/test_dataset_full.csv\n",
            " - nb_attributes                                                 8\n",
            " - nb_classes                                                    2\n",
            " - train_pred_outfile                                            notebooks/rf/predTrain.out\n",
            " - test_pred_outfile                                             notebooks/rf/predTest.out\n",
            " - stats_file                                                    notebooks/rf/stats.txt\n",
            " - rules_outfile                                                 notebooks/rf/RF_rules.rls\n",
            " - n_estimators                                                  100\n",
            " - criterion                                                     gini\n",
            " - min_samples_split                                             2\n",
            " - min_samples_leaf                                              1\n",
            " - min_weight_fraction_leaf                                      0.0\n",
            " - max_features                                                  sqrt\n",
            " - min_impurity_decrease                                         0.0\n",
            " - bootstrap                                                     True\n",
            " - oob_score                                                     False\n",
            " - n_jobs                                                        1\n",
            " - verbose                                                       0\n",
            " - warm_start                                                    False\n",
            " - ccp_alpha                                                     0.0\n",
            "End of Parameters list. \n",
            "\n",
            "Training accuracy : 100%.\n",
            "Testing accuracy : 70.12987%.\n",
            "\n",
            "Full execution time = 0.467228 sec\n"
          ]
        },
        {
          "output_type": "execute_result",
          "data": {
            "text/plain": [
              "0"
            ]
          },
          "metadata": {},
          "execution_count": 10
        }
      ],
      "source": [
        "randForestsTrn(\n",
        "f\"\"\"\n",
        "--root_folder {root_dir}\n",
        "--train_data_file {\"train_dataset_full.csv\"}\n",
        "--test_data_file {\"test_dataset_full.csv\"}\n",
        "--nb_attributes {NB_FEATURES}\n",
        "--nb_classes {NB_CLASSES}\"\"\"\n",
        ")"
      ]
    },
    {
      "cell_type": "markdown",
      "id": "db72d8bd",
      "metadata": {
        "id": "db72d8bd"
      },
      "source": [
        "Various files specific to this training method, have been created."
      ]
    },
    {
      "cell_type": "code",
      "execution_count": 11,
      "id": "2e9fdde1",
      "metadata": {
        "id": "2e9fdde1",
        "outputId": "ee47f03e-7402-46a6-eb15-9691a891453e",
        "colab": {
          "base_uri": "https://localhost:8080/"
        }
      },
      "outputs": [
        {
          "output_type": "stream",
          "name": "stdout",
          "text": [
            "attributes.txt\tRF_rules.rls\ttest_dataset_full.csv  train_dataset_full.csv\n",
            "predTest.out\tstats.txt\ttest_dataset.txt       train_dataset.txt\n",
            "predTrain.out\ttest_class.txt\ttrain_class.txt\n"
          ]
        }
      ],
      "source": [
        "!ls ./notebooks/rf/"
      ]
    },
    {
      "cell_type": "markdown",
      "id": "db105b9a",
      "metadata": {
        "id": "db105b9a"
      },
      "source": [
        "In the different files produced, we can access the different accuracies, as well as the predictions probabilities for class 0 and class 1."
      ]
    },
    {
      "cell_type": "code",
      "execution_count": 12,
      "id": "d0a494b5",
      "metadata": {
        "id": "d0a494b5",
        "outputId": "907d6093-cbbe-4569-f594-f0aa4d78d246",
        "colab": {
          "base_uri": "https://localhost:8080/"
        }
      },
      "outputs": [
        {
          "output_type": "stream",
          "name": "stdout",
          "text": [
            "Training accuracy : 100%.\n",
            "Testing accuracy : 70.12987%."
          ]
        }
      ],
      "source": [
        "!cat ./notebooks/rf/stats.txt"
      ]
    },
    {
      "cell_type": "code",
      "execution_count": 13,
      "id": "eb78372a",
      "metadata": {
        "id": "eb78372a",
        "outputId": "f490aa8d-da79-4832-b805-335abe68e7d3",
        "colab": {
          "base_uri": "https://localhost:8080/"
        }
      },
      "outputs": [
        {
          "output_type": "stream",
          "name": "stdout",
          "text": [
            "0.24 0.76 \n",
            "0.74 0.26 \n",
            "0.89 0.11 \n",
            "0.19 0.81 \n",
            "0.95 0.05 \n",
            "0.65 0.35 \n",
            "0.51 0.49 \n",
            "0.16 0.84 \n",
            "0.98 0.02 \n",
            "0.27 0.73 \n"
          ]
        }
      ],
      "source": [
        "!cat ./notebooks/rf/predTest.out | head -n 10"
      ]
    },
    {
      "cell_type": "markdown",
      "id": "c053fd18",
      "metadata": {
        "id": "c053fd18"
      },
      "source": [
        "# FIDEX\n",
        "\n",
        "We can generate local rules to explain the model's results on one test sample, or on all of them depending the size of our sample.\n",
        "\n",
        "\n",
        "```\n",
        "fidex(\"--help\")\n",
        "```"
      ]
    },
    {
      "cell_type": "code",
      "execution_count": 14,
      "id": "f847557a",
      "metadata": {
        "id": "f847557a"
      },
      "outputs": [],
      "source": [
        "# Set all parameters\n",
        "train_data_file = f\"train_dataset.txt\"\n",
        "train_class_file= f\"train_class.txt\"\n",
        "train_pred_file= f\"predTrain.out\"\n",
        "test_data_file= f\"test_dataset.txt\"\n",
        "test_pred_file= f\"predTest.out\"\n",
        "rules_file= f\"RF_rules.rls\"\n",
        "rules_outfile= f\"Fidex_RF_rules_out.rls\"\n",
        "attributes_file= f\"attributes.txt\"\n",
        "nb_attributes=f\"{NB_FEATURES}\"\n",
        "nb_classes=f\"{NB_CLASSES}\""
      ]
    },
    {
      "cell_type": "code",
      "execution_count": 15,
      "id": "68f1dba6",
      "metadata": {
        "id": "68f1dba6",
        "outputId": "1116b2bd-5b62-4682-c5d2-3cccb1d4185b",
        "colab": {
          "base_uri": "https://localhost:8080/"
        }
      },
      "outputs": [
        {
          "output_type": "execute_result",
          "data": {
            "text/plain": [
              "0"
            ]
          },
          "metadata": {},
          "execution_count": 15
        }
      ],
      "source": [
        "# Run the FIDEX algorithm\n",
        "fidex(f\"\"\"\n",
        "--root_folder {root_dir}\n",
        "--train_data_file {train_data_file}\n",
        "--train_class_file {train_class_file}\n",
        "--test_data_file {test_data_file}\n",
        "--train_pred_file {train_pred_file}\n",
        "--test_pred_file {test_pred_file}\n",
        "--rules_file {rules_file}\n",
        "--rules_outfile {rules_outfile}\n",
        "--attributes_file {features_filename}\n",
        "--nb_attributes {nb_attributes}\n",
        "--nb_classes {nb_classes}\n",
        "\"\"\")"
      ]
    },
    {
      "cell_type": "markdown",
      "id": "fdd7a970",
      "metadata": {
        "id": "fdd7a970"
      },
      "source": [
        "Rule for each sample"
      ]
    },
    {
      "cell_type": "code",
      "execution_count": 16,
      "id": "ad737f1d",
      "metadata": {
        "id": "ad737f1d",
        "outputId": "e0d5a8db-a8da-4517-8cfb-1657fe8a53dd",
        "colab": {
          "base_uri": "https://localhost:8080/"
        }
      },
      "outputs": [
        {
          "output_type": "stream",
          "name": "stdout",
          "text": [
            "No decision threshold is used.\n",
            "\n",
            "Rule for sample 0 :\n",
            "\n",
            "Glucose>=158.5 Glucose<160.5 -> class 1\n",
            "   Train Covering size : 2\n",
            "   Train Fidelity : 1\n",
            "   Train Accuracy : 1\n",
            "   Train Confidence : 0.88\n",
            "\n",
            "-------------------------------------------------\n",
            "\n",
            "Rule for sample 1 :\n",
            "\n",
            "Glucose<89.5 BloodPressure>=82.5 -> class 0\n",
            "   Train Covering size : 4\n",
            "   Train Fidelity : 1\n",
            "   Train Accuracy : 1\n",
            "   Train Confidence : 0.904\n",
            "\n"
          ]
        }
      ],
      "source": [
        "!head -n 20 ./notebooks/rf/Fidex_RF_rules_out.rls"
      ]
    },
    {
      "cell_type": "markdown",
      "id": "176595b4",
      "metadata": {
        "id": "176595b4"
      },
      "source": [
        "# Global fidex Glo    \n"
      ]
    },
    {
      "cell_type": "code",
      "execution_count": 17,
      "id": "1d015706",
      "metadata": {
        "id": "1d015706"
      },
      "outputs": [],
      "source": [
        "global_rules_out_file = \"FidexGlo_RF_global_rules_out.rls\""
      ]
    },
    {
      "cell_type": "code",
      "execution_count": 18,
      "id": "3cc42bb0",
      "metadata": {
        "id": "3cc42bb0",
        "outputId": "02331c11-4956-413c-856c-0c384b7a563c",
        "colab": {
          "base_uri": "https://localhost:8080/"
        }
      },
      "outputs": [
        {
          "output_type": "execute_result",
          "data": {
            "text/plain": [
              "0"
            ]
          },
          "metadata": {},
          "execution_count": 18
        }
      ],
      "source": [
        "fidexGloRules(f\"\"\"\n",
        "--root_folder {root_dir}\n",
        "--train_data_file {train_data_file}\n",
        "--train_class_file {train_class_file}\n",
        "--train_pred_file {train_pred_file}\n",
        "--rules_file {rules_file}\n",
        "--global_rules_outfile {global_rules_out_file}\n",
        "--heuristic 1\n",
        "--attributes_file {features_filename}\n",
        "--nb_attributes {nb_attributes}\n",
        "--nb_classes {nb_classes}\n",
        "\"\"\")"
      ]
    },
    {
      "cell_type": "markdown",
      "id": "b4a1212e",
      "metadata": {
        "id": "b4a1212e"
      },
      "source": [
        "## Rules and sample covering\n",
        "\n",
        "Here we can see how many samples are concerned per rules."
      ]
    },
    {
      "cell_type": "code",
      "execution_count": 19,
      "id": "2a9e6081",
      "metadata": {
        "id": "2a9e6081",
        "outputId": "bc14fe5e-3327-4030-f19d-c49e2e671ae1",
        "colab": {
          "base_uri": "https://localhost:8080/"
        }
      },
      "outputs": [
        {
          "output_type": "stream",
          "name": "stdout",
          "text": [
            "Number of rules : 149, mean sample covering number per rule : 10.85906, mean number of antecedents per rule : 3.09396\n",
            "No decision threshold is used.\n",
            "\n",
            "Rule 1: Glucose<104.5 BMI<28.8 -> class 0\n",
            "   Train Covering size : 81\n",
            "   Train Fidelity : 1\n",
            "   Train Accuracy : 1\n",
            "   Train Confidence : 0.978148\n",
            "\n",
            "Rule 2: Glucose<99.5 SkinThickness<18.5 -> class 0\n",
            "   Train Covering size : 65\n",
            "   Train Fidelity : 1\n",
            "   Train Accuracy : 1\n",
            "   Train Confidence : 0.964462\n",
            "\n",
            "Rule 3: Age<22.5 Glucose<111.5 -> class 0\n",
            "   Train Covering size : 61\n",
            "   Train Fidelity : 1\n",
            "   Train Accuracy : 1\n",
            "   Train Confidence : 0.976721\n",
            "\n",
            "Rule 4: Glucose<123.5 BMI<32.2 Insulin>=48.5 BloodPressure>=51 -> class 0\n",
            "   Train Covering size : 60\n",
            "   Train Fidelity : 1\n",
            "   Train Accuracy : 1\n",
            "   Train Confidence : 0.960833\n",
            "\n",
            "Rule 5: Age<22.5 BMI<31.1 SkinThickness>=3.5 -> class 0\n",
            "   Train Covering size : 54\n",
            "   Train Fidelity : 1\n",
            "   Train Accuracy : 1\n",
            "   Train Confidence : 0.978704\n",
            "\n"
          ]
        }
      ],
      "source": [
        "!head -n 33 ./notebooks/rf/FidexGlo_RF_global_rules_out.rls"
      ]
    },
    {
      "cell_type": "markdown",
      "id": "a10d6276",
      "metadata": {
        "id": "a10d6276"
      },
      "source": [
        "# Conclusion\n",
        "\n",
        "\n",
        "TODO"
      ]
    }
  ],
  "metadata": {
    "kernelspec": {
      "display_name": "Python 3 (ipykernel)",
      "language": "python",
      "name": "python3"
    },
    "colab": {
      "provenance": []
    }
  },
  "nbformat": 4,
  "nbformat_minor": 5
}