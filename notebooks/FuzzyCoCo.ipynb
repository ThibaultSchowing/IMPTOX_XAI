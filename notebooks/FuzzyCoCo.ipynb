{
 "cells": [
  {
   "cell_type": "markdown",
   "metadata": {},
   "source": [
    "# Fuzzy-CoCo\n",
    "\n",
    "Current compatibility: The fuzzycocopython package is a work in progress and is currently only working on Mac or Linux. This means that the jupyter notebook needs to be running in a Unix environment. This is possible on Windows using WSL. The repository might need to be added to the PYTHONPATH environment variable. \n",
    "\n",
    "TODO: Link HES-XPLAIN. "
   ]
  },
  {
   "cell_type": "code",
   "execution_count": 4,
   "metadata": {},
   "outputs": [],
   "source": [
    "import pandas as pd\n",
    "from sklearn.model_selection import train_test_split\n",
    "from fuzzycocopython.fuzzycoco_classifier import FuzzyCocoClassifier\n",
    "from fuzzycocopython.fuzzycoco_regressor import FuzzyCocoRegressor\n",
    "\n",
    "from sklearn.datasets import load_iris, load_diabetes\n",
    "from sklearn.model_selection import train_test_split"
   ]
  },
  {
   "cell_type": "code",
   "execution_count": 5,
   "metadata": {},
   "outputs": [],
   "source": [
    "# Classification dataset (Iris)\n",
    "iris = load_iris()\n",
    "X_train_iris, X_test_iris, y_train_iris, y_test_iris = train_test_split(\n",
    "    iris.data, iris.target, test_size=0.2, random_state=42\n",
    ")\n",
    "\n",
    "# Regression dataset (Diabetes)\n",
    "diabetes = load_diabetes()\n",
    "X_train_diabetes, X_test_diabetes, y_train_diabetes, y_test_diabetes = train_test_split(\n",
    "    diabetes.data, diabetes.target, test_size=0.2, random_state=42\n",
    ")"
   ]
  },
  {
   "cell_type": "code",
   "execution_count": 6,
   "metadata": {},
   "outputs": [
    {
     "name": "stderr",
     "output_type": "stream",
     "text": [
      "##========================================================================\n",
      "##FuzzyCocoScriptRunner::run()\n",
      "## params: Fuzzy Coco Params:\n",
      "===================\n",
      "Global params:\n",
      "| nb_rules | nb_max_var_per_rule | max_generations | max_fitness | nb_cooperators |\n",
      "|----------|---------------------|-----------------|-------------|----------------|\n",
      "        3 |                   3 |             100 |           0 |              2 |\n",
      "\n",
      "Input Variables:\n",
      "| nb_sets | nb_bits_vars | nb_bits_sets | nb_bit_pos |\n",
      "|---------|--------------|--------------|------------|\n",
      "       2 |            7 |            2 |          8 |\n",
      "\n",
      "Output Variables:\n",
      "| nb_sets | nb_bits_vars | nb_bits_sets | nb_bit_pos |\n",
      "|---------|--------------|--------------|------------|\n",
      "       2 |            1 |            1 |          1 |\n",
      "\n",
      "defuzz threshold:ACTIVATED\n",
      "output_vars_defuzz_thresholds:{0.5}\n",
      "Rules params\n",
      "| pop_size | elite_size | cx_prob | mut_flip_genome | mut_flip_bit |\n",
      "|----------|------------|---------|-----------------|--------------|\n",
      "      350 |         10 |       0 |               0 |            0 |\n",
      "\n",
      "MFs (Membership Functions) params\n",
      "| pop_size | elite_size | cx_prob | mut_flip_genome | mut_flip_bit |\n",
      "|----------|------------|---------|-----------------|--------------|\n",
      "      350 |         10 |       0 |               0 |            0 |\n",
      "\n",
      "Fitness Metric Weights:\n",
      "FuzzySystemMetrics: (sensitivity=1, specificity=1, accuracy=0, ppv=0, rmse=0.5, rrse=0, rae=0, mse=0, distanceThreshold=0.01, distanceMinThreshold=0, nb_vars=0, overLearn=0, TP=0, FP=0, TN=0, FN=0, )\n",
      "\n",
      "##========================================================================\n"
     ]
    },
    {
     "data": {
      "text/plain": [
       "0.8666666666666667"
      ]
     },
     "execution_count": 6,
     "metadata": {},
     "output_type": "execute_result"
    }
   ],
   "source": [
    "model = FuzzyCocoClassifier(random_state=42)\n",
    "\n",
    "my_feature_names = [\"Sepal.Length\", \"Sepal.Width\", \"Petal.Length\", \"Petal.Width\"]\n",
    "model.fit(X_train_iris, y_train_iris, feature_names=my_feature_names, target_name=\"OUT\")\n",
    "model.score(X_test_iris, y_test_iris, feature_names=my_feature_names)"
   ]
  },
  {
   "cell_type": "code",
   "execution_count": 13,
   "metadata": {},
   "outputs": [
    {
     "name": "stderr",
     "output_type": "stream",
     "text": [
      "##========================================================================\n",
      "##FuzzyCocoScriptRunner::run()\n",
      "## params: Fuzzy Coco Params:\n",
      "===================\n",
      "Global params:\n",
      "| nb_rules | nb_max_var_per_rule | max_generations | max_fitness | nb_cooperators |\n",
      "|----------|---------------------|-----------------|-------------|----------------|\n",
      "        3 |                   3 |             100 |           0 |              2 |\n",
      "\n",
      "Input Variables:\n",
      "| nb_sets | nb_bits_vars | nb_bits_sets | nb_bit_pos |\n",
      "|---------|--------------|--------------|------------|\n",
      "       2 |            7 |            2 |          8 |\n",
      "\n",
      "Output Variables:\n",
      "| nb_sets | nb_bits_vars | nb_bits_sets | nb_bit_pos |\n",
      "|---------|--------------|--------------|------------|\n",
      "       2 |            1 |            1 |          1 |\n",
      "\n",
      "defuzz threshold:ACTIVATED\n",
      "output_vars_defuzz_thresholds:{0.5}\n",
      "Rules params\n",
      "| pop_size | elite_size | cx_prob | mut_flip_genome | mut_flip_bit |\n",
      "|----------|------------|---------|-----------------|--------------|\n",
      "      350 |         10 |       0 |               0 |            0 |\n",
      "\n",
      "MFs (Membership Functions) params\n",
      "| pop_size | elite_size | cx_prob | mut_flip_genome | mut_flip_bit |\n",
      "|----------|------------|---------|-----------------|--------------|\n",
      "      350 |         10 |       0 |               0 |            0 |\n",
      "\n",
      "Fitness Metric Weights:\n",
      "FuzzySystemMetrics: (sensitivity=1, specificity=1, accuracy=0, ppv=0, rmse=0.5, rrse=0, rae=0, mse=0, distanceThreshold=0.01, distanceMinThreshold=0, nb_vars=0, overLearn=0, TP=0, FP=0, TN=0, FN=0, )\n",
      "\n",
      "##========================================================================\n"
     ]
    },
    {
     "data": {
      "text/plain": [
       "0.407023010445566"
      ]
     },
     "execution_count": 13,
     "metadata": {},
     "output_type": "execute_result"
    }
   ],
   "source": [
    "# Regression dataset (Diabetes)\n",
    "diabetes = load_diabetes()\n",
    "X_train_diabetes, X_test_diabetes, y_train_diabetes, y_test_diabetes = train_test_split(\n",
    "    diabetes.data, diabetes.target, test_size=0.2, random_state=42\n",
    ")\n",
    "\n",
    "\n",
    "\n",
    "model2 = FuzzyCocoRegressor()\n",
    "model2.fit(X_train_diabetes, y_train_diabetes, feature_names=diabetes.feature_names, target_name=\"OUT\", output_filename=\"diabetes_model.ffs\")\n",
    "model2.score(X_test_diabetes, y_test_diabetes, feature_names=diabetes.feature_names)"
   ]
  },
  {
   "cell_type": "code",
   "execution_count": 11,
   "metadata": {},
   "outputs": [
    {
     "data": {
      "text/plain": [
       "array([134.76034556, 153.90910291, 110.93319108, 269.92222812,\n",
       "       141.17586242,  90.31488489, 170.5884658 , 153.90910291,\n",
       "       105.59072772, 134.76034556,  95.08848742, 137.85544226,\n",
       "        89.61848554, 224.17477475, 103.5741327 , 149.32927069,\n",
       "       164.25711039, 233.47355262, 237.42690518, 201.84673213,\n",
       "       157.66826382, 102.36053054,  68.85501422, 181.35159868,\n",
       "       132.59722396, 206.12302754, 204.09380009, 240.85924354,\n",
       "        58.12962772, 134.94287346, 159.3549928 , 117.09170926,\n",
       "       152.42006195, 211.36967498, 155.95077055, 142.56515503,\n",
       "       137.38622638, 132.42154219, 149.99898795,  72.77252859,\n",
       "        74.84579463,  84.65439802, 195.92068449, 161.92605877,\n",
       "       101.10977762,  63.1889504 , 115.94883832,  45.17635721,\n",
       "        88.84474174, 138.95764604, 134.76034556,  98.11895806,\n",
       "       184.9116562 ,  93.18039381, 213.99502718, 132.59722396,\n",
       "        98.62906507, 193.84649404, 117.05290256,  27.2423416 ,\n",
       "       158.4860856 , 165.04210929, 132.59722396,  91.37281363,\n",
       "       123.92370462, 166.42438341, 209.96327687, 171.69999794,\n",
       "       121.12982036, 174.16678227, 194.64345361, 209.25122231,\n",
       "       219.94811309, 187.5641893 ,  93.28713857, 181.98145056,\n",
       "       170.37528352, 170.66110857, 154.57151064, 189.01461051,\n",
       "       132.59722396, 142.12878377,  76.80694123,  41.03080458,\n",
       "        91.98529227,  84.32872752,  83.08019066,  96.48259736,\n",
       "       148.75568401])"
      ]
     },
     "execution_count": 11,
     "metadata": {},
     "output_type": "execute_result"
    }
   ],
   "source": [
    "model2.predict(X_test_diabetes, feature_names=diabetes.feature_names)"
   ]
  },
  {
   "cell_type": "code",
   "execution_count": 12,
   "metadata": {},
   "outputs": [
    {
     "data": {
      "text/plain": [
       "array([219.,  70., 202., 230., 111.,  84., 242., 272.,  94.,  96.,  94.,\n",
       "       252.,  99., 297., 135.,  67., 295., 264., 170., 275., 310.,  64.,\n",
       "       128., 232., 129., 118., 263.,  77.,  48., 107., 140., 113.,  90.,\n",
       "       164., 180., 233.,  42.,  84., 172.,  63.,  48., 108., 156., 168.,\n",
       "        90.,  52., 200.,  87.,  90., 258., 136., 158.,  69.,  72., 171.,\n",
       "        95.,  72., 151., 168.,  60., 122.,  52., 187., 102., 214., 248.,\n",
       "       181., 110., 140., 202., 101., 222., 281.,  61.,  89.,  91., 186.,\n",
       "       220., 237., 233.,  68., 190.,  96.,  72., 153.,  98.,  37.,  63.,\n",
       "       184.])"
      ]
     },
     "execution_count": 12,
     "metadata": {},
     "output_type": "execute_result"
    }
   ],
   "source": [
    "y_test_diabetes"
   ]
  },
  {
   "cell_type": "code",
   "execution_count": null,
   "metadata": {},
   "outputs": [],
   "source": [
    "model2"
   ]
  }
 ],
 "metadata": {
  "kernelspec": {
   "display_name": "Python 3 (ipykernel)",
   "language": "python",
   "name": "python3"
  },
  "language_info": {
   "codemirror_mode": {
    "name": "ipython",
    "version": 3
   },
   "file_extension": ".py",
   "mimetype": "text/x-python",
   "name": "python",
   "nbconvert_exporter": "python",
   "pygments_lexer": "ipython3",
   "version": "3.12.3"
  }
 },
 "nbformat": 4,
 "nbformat_minor": 2
}
